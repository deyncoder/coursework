{
 "cells": [
  {
   "cell_type": "markdown",
   "id": "39226b73",
   "metadata": {},
   "source": [
    "<font color='green'>**Install libraries**</font>"
   ]
  },
  {
   "cell_type": "code",
   "execution_count": 4,
   "id": "1edc8fc9",
   "metadata": {},
   "outputs": [
    {
     "name": "stdout",
     "output_type": "stream",
     "text": [
      "Requirement already satisfied: lxml==4.6.4 in d:\\programs\\anaconda3\\lib\\site-packages (4.6.4)\n",
      "Requirement already satisfied: beautifulsoup4 in d:\\programs\\anaconda3\\lib\\site-packages (4.11.1)\n",
      "Requirement already satisfied: soupsieve>1.2 in d:\\programs\\anaconda3\\lib\\site-packages (from beautifulsoup4) (2.3.1)\n",
      "Requirement already satisfied: html5lib==1.1 in d:\\programs\\anaconda3\\lib\\site-packages (1.1)\n",
      "Requirement already satisfied: webencodings in d:\\programs\\anaconda3\\lib\\site-packages (from html5lib==1.1) (0.5.1)\n",
      "Requirement already satisfied: six>=1.9 in d:\\programs\\anaconda3\\lib\\site-packages (from html5lib==1.1) (1.16.0)\n"
     ]
    }
   ],
   "source": [
    "!pip install lxml==4.6.4\n",
    "!pip install beautifulsoup4\n",
    "!pip install html5lib==1.1"
   ]
  },
  {
   "cell_type": "markdown",
   "id": "995a58ef",
   "metadata": {},
   "source": [
    "<font color='green'>**Import required modules and functions**</font>"
   ]
  },
  {
   "cell_type": "code",
   "execution_count": 5,
   "id": "2a238d51",
   "metadata": {},
   "outputs": [],
   "source": [
    "from bs4 import BeautifulSoup # this module helps in web scrapping.\n",
    "import requests  # this module helps us to download a web page"
   ]
  },
  {
   "cell_type": "markdown",
   "id": "179bc0cb",
   "metadata": {},
   "source": [
    "***\n",
    "<h2>Beautiful Soup Objects</h2>\n",
    "\n",
    "Beautiful Soup is a Python library for pulling data out of HTML and XML files, we will focus on HTML files. This is accomplished by representing the HTML as a set of objects with methods used to parse the HTML.  We can navigate the HTML as a tree and/or filter out what we are looking for.\n",
    "\n",
    "__[BeautifulSoup Documetation](https://www.crummy.com/software/BeautifulSoup/bs4/doc/?utm_medium=Exinfluencer&utm_source=Exinfluencer&utm_content=000026UJ&utm_term=10006555&utm_id=NA-SkillsNetwork-Channel-SkillsNetworkCoursesIBMDeveloperSkillsNetworkPY0220ENSkillsNetwork23455606-2021-01-01)__"
   ]
  },
  {
   "cell_type": "code",
   "execution_count": 6,
   "id": "277448dd",
   "metadata": {},
   "outputs": [
    {
     "data": {
      "text/html": [
       "<!DOCTYPE html>\n",
       "<html>\n",
       "<head>\n",
       "<title>Page Title</title>\n",
       "</head>\n",
       "<body>\n",
       "<h3><b id='boldest'>Lebron James</b></h3>\n",
       "<p> Salary: $ 92,000,000 </p>\n",
       "<h3> Stephen Curry</h3>\n",
       "<p> Salary: $85,000, 000 </p>\n",
       "<h3> Kevin Durant </h3>\n",
       "<p> Salary: $73,200, 000</p>\n",
       "</body>\n",
       "</html>\n"
      ],
      "text/plain": [
       "<IPython.core.display.HTML object>"
      ]
     },
     "metadata": {},
     "output_type": "display_data"
    }
   ],
   "source": [
    "%%html\n",
    "<!DOCTYPE html>\n",
    "<html>\n",
    "<head>\n",
    "<title>Page Title</title>\n",
    "</head>\n",
    "<body>\n",
    "<h3><b id='boldest'>Lebron James</b></h3>\n",
    "<p> Salary: $ 92,000,000 </p>\n",
    "<h3> Stephen Curry</h3>\n",
    "<p> Salary: $85,000, 000 </p>\n",
    "<h3> Kevin Durant </h3>\n",
    "<p> Salary: $73,200, 000</p>\n",
    "</body>\n",
    "</html>"
   ]
  },
  {
   "cell_type": "markdown",
   "id": "1c25f73b",
   "metadata": {},
   "source": [
    "***\n",
    "<font color='green'> **Store HTML as a string** </font>"
   ]
  },
  {
   "cell_type": "code",
   "execution_count": 7,
   "id": "350e7423",
   "metadata": {},
   "outputs": [],
   "source": [
    "html = \"<!DOCTYPE html><html><head><title>Page Title</title></head><body><h3><b id='boldest'>Lebron James</b></h3><p> Salary: $ 92,000,000 </p><h3> Stephen Curry</h3><p> Salary: $85,000, 000 </p><h3> Kevin Durant </h3><p> Salary: $73,200, 000</p></body></html>\""
   ]
  },
  {
   "cell_type": "markdown",
   "id": "959bad24",
   "metadata": {},
   "source": [
    "To parse a document, pass it into the <code>BeautifulSoup</code> constructor, the <code>BeautifulSoup</code> object, which represents the document as a nested data structure:"
   ]
  },
  {
   "cell_type": "code",
   "execution_count": 8,
   "id": "551d36da",
   "metadata": {},
   "outputs": [],
   "source": [
    "soup = BeautifulSoup(html,\"html.parser\")"
   ]
  },
  {
   "cell_type": "markdown",
   "id": "66b6aa53",
   "metadata": {},
   "source": [
    "First, the document is converted to Unicode, (similar to ASCII), and HTML entities are converted to Unicode characters. Beautiful Soup transforms a complex HTML document into a complex tree of Python objects. The BeautifulSoup object can create other types of objects. \n",
    "\n",
    "We can use the method prettify() to display the HTML in the nested structure:"
   ]
  },
  {
   "cell_type": "code",
   "execution_count": 9,
   "id": "09358d97",
   "metadata": {},
   "outputs": [
    {
     "name": "stdout",
     "output_type": "stream",
     "text": [
      "<!DOCTYPE html>\n",
      "<html>\n",
      " <head>\n",
      "  <title>\n",
      "   Page Title\n",
      "  </title>\n",
      " </head>\n",
      " <body>\n",
      "  <h3>\n",
      "   <b id=\"boldest\">\n",
      "    Lebron James\n",
      "   </b>\n",
      "  </h3>\n",
      "  <p>\n",
      "   Salary: $ 92,000,000\n",
      "  </p>\n",
      "  <h3>\n",
      "   Stephen Curry\n",
      "  </h3>\n",
      "  <p>\n",
      "   Salary: $85,000, 000\n",
      "  </p>\n",
      "  <h3>\n",
      "   Kevin Durant\n",
      "  </h3>\n",
      "  <p>\n",
      "   Salary: $73,200, 000\n",
      "  </p>\n",
      " </body>\n",
      "</html>\n"
     ]
    }
   ],
   "source": [
    "print(soup.prettify())"
   ]
  },
  {
   "cell_type": "markdown",
   "id": "74e9159d",
   "metadata": {},
   "source": [
    "### Tags \n",
    "\n",
    "Let's say we want the title of the page and the name of the top paid player we can use the Tag. The Tag object corresponds to an HTML tag in the original document, for example, the tag title."
   ]
  },
  {
   "cell_type": "code",
   "execution_count": 10,
   "id": "3d720fea",
   "metadata": {},
   "outputs": [
    {
     "name": "stdout",
     "output_type": "stream",
     "text": [
      "tag title: <title>Page Title</title>\n"
     ]
    }
   ],
   "source": [
    "# display title tag\n",
    "tag_title = soup.title\n",
    "print(\"tag title:\", tag_title)"
   ]
  },
  {
   "cell_type": "code",
   "execution_count": 11,
   "id": "a573fc8b",
   "metadata": {},
   "outputs": [
    {
     "name": "stdout",
     "output_type": "stream",
     "text": [
      "tag object type: <class 'bs4.element.Tag'>\n"
     ]
    }
   ],
   "source": [
    "# display tag type\n",
    "print(\"tag object type:\", type(tag_title))"
   ]
  },
  {
   "cell_type": "markdown",
   "id": "61185191",
   "metadata": {},
   "source": [
    "If there is more than one Tag with the same name, the first element with that Tag name is called, this corresponds to the most paid player:"
   ]
  },
  {
   "cell_type": "code",
   "execution_count": 12,
   "id": "e535f439",
   "metadata": {},
   "outputs": [
    {
     "name": "stdout",
     "output_type": "stream",
     "text": [
      "tag h3: <h3><b id=\"boldest\">Lebron James</b></h3>\n"
     ]
    }
   ],
   "source": [
    "# h3 tag\n",
    "tag_h3 = soup.h3\n",
    "print(\"tag h3:\", tag_h3)\n"
   ]
  },
  {
   "cell_type": "markdown",
   "id": "d38e1b92",
   "metadata": {},
   "source": [
    "### Children, Parents, and Siblings"
   ]
  },
  {
   "cell_type": "code",
   "execution_count": 13,
   "id": "15b80fd8",
   "metadata": {},
   "outputs": [
    {
     "name": "stdout",
     "output_type": "stream",
     "text": [
      "tag_child: <b id=\"boldest\">Lebron James</b>\n"
     ]
    }
   ],
   "source": [
    "# access child tag\n",
    "tag_child = tag_h3.b\n",
    "print(\"tag_child:\", tag_child)"
   ]
  },
  {
   "cell_type": "code",
   "execution_count": 14,
   "id": "e7686d8f",
   "metadata": {},
   "outputs": [
    {
     "name": "stdout",
     "output_type": "stream",
     "text": [
      "tag_parent: <h3><b id=\"boldest\">Lebron James</b></h3>\n"
     ]
    }
   ],
   "source": [
    "# access parent tag\n",
    "tag_parent = tag_child.parent\n",
    "print(\"tag_parent:\", tag_parent)"
   ]
  },
  {
   "cell_type": "code",
   "execution_count": 15,
   "id": "3fe65f1a",
   "metadata": {},
   "outputs": [
    {
     "name": "stdout",
     "output_type": "stream",
     "text": [
      "tag_sibling1: <p> Salary: $ 92,000,000 </p>\n"
     ]
    }
   ],
   "source": [
    "# access sibling 1\n",
    "tag_sibling1 = tag_h3.next_sibling\n",
    "print(\"tag_sibling1:\", tag_sibling1)"
   ]
  },
  {
   "cell_type": "code",
   "execution_count": 16,
   "id": "c7cff961",
   "metadata": {},
   "outputs": [
    {
     "name": "stdout",
     "output_type": "stream",
     "text": [
      "tag_sibling2: <h3> Stephen Curry</h3>\n"
     ]
    }
   ],
   "source": [
    "# access sibling 2\n",
    "tag_sibling2 = tag_sibling1.next_sibling\n",
    "print(\"tag_sibling2:\", tag_sibling2)"
   ]
  },
  {
   "cell_type": "markdown",
   "id": "2c81e677",
   "metadata": {},
   "source": [
    "### HTML Attributes"
   ]
  },
  {
   "cell_type": "code",
   "execution_count": 17,
   "id": "3574e0bb",
   "metadata": {},
   "outputs": [
    {
     "data": {
      "text/plain": [
       "'boldest'"
      ]
     },
     "execution_count": 17,
     "metadata": {},
     "output_type": "execute_result"
    }
   ],
   "source": [
    "# get value of tag attribute\n",
    "tag_child[\"id\"]"
   ]
  },
  {
   "cell_type": "code",
   "execution_count": 18,
   "id": "7bfce17d",
   "metadata": {},
   "outputs": [
    {
     "data": {
      "text/plain": [
       "{'id': 'boldest'}"
      ]
     },
     "execution_count": 18,
     "metadata": {},
     "output_type": "execute_result"
    }
   ],
   "source": [
    "# get tag attributes as dictionary\n",
    "tag_child.attrs"
   ]
  },
  {
   "cell_type": "code",
   "execution_count": 19,
   "id": "7bbd4b66",
   "metadata": {},
   "outputs": [
    {
     "data": {
      "text/plain": [
       "'boldest'"
      ]
     },
     "execution_count": 19,
     "metadata": {},
     "output_type": "execute_result"
    }
   ],
   "source": [
    "# get value of tag attribute using python get() method\n",
    "tag_child.get('id')"
   ]
  },
  {
   "cell_type": "markdown",
   "id": "a3811be9",
   "metadata": {},
   "source": [
    "## Navigable String\n",
    "\n",
    "A string corresponds to a bit of text or content within a tag. Beautiful Soup uses the NavigableString class to contain this text. In our HTML we can obtain the name of the first player by extracting the sting of the Tag object tag_child as follows:"
   ]
  },
  {
   "cell_type": "code",
   "execution_count": 20,
   "id": "2e29325f",
   "metadata": {},
   "outputs": [
    {
     "data": {
      "text/plain": [
       "'Lebron James'"
      ]
     },
     "execution_count": 20,
     "metadata": {},
     "output_type": "execute_result"
    }
   ],
   "source": [
    "# get string value of tag\n",
    "tag_child_string = tag_child.string\n",
    "tag_child_string"
   ]
  },
  {
   "cell_type": "code",
   "execution_count": 21,
   "id": "e6d9090f",
   "metadata": {},
   "outputs": [
    {
     "data": {
      "text/plain": [
       "bs4.element.NavigableString"
      ]
     },
     "execution_count": 21,
     "metadata": {},
     "output_type": "execute_result"
    }
   ],
   "source": [
    "# type Navigable string\n",
    "type(tag_child_string)"
   ]
  },
  {
   "cell_type": "markdown",
   "id": "01da5d9f",
   "metadata": {},
   "source": [
    "### Filter\n",
    "\n",
    "Filters allow you to find complex patterns, the simplest filter is a string. In this section we will pass a string to a different filter method and Beautiful Soup will perform a match against that exact string. Consider the following HTML of rocket launchs:"
   ]
  },
  {
   "cell_type": "code",
   "execution_count": 22,
   "id": "8781a534",
   "metadata": {},
   "outputs": [
    {
     "data": {
      "text/html": [
       "<table>\n",
       "  <tr>\n",
       "    <td id='flight' >Flight No</td>\n",
       "    <td>Launch site</td> \n",
       "    <td>Payload mass</td>\n",
       "   </tr>\n",
       "  <tr> \n",
       "    <td>1</td>\n",
       "    <td><a href='https://en.wikipedia.org/wiki/Florida'>Florida</a></td>\n",
       "    <td>300 kg</td>\n",
       "  </tr>\n",
       "  <tr>\n",
       "    <td>2</td>\n",
       "    <td><a href='https://en.wikipedia.org/wiki/Texas'>Texas</a></td>\n",
       "    <td>94 kg</td>\n",
       "  </tr>\n",
       "  <tr>\n",
       "    <td>3</td>\n",
       "    <td><a href='https://en.wikipedia.org/wiki/Florida'>Florida<a> </td>\n",
       "    <td>80 kg</td>\n",
       "  </tr>\n",
       "</table>\n"
      ],
      "text/plain": [
       "<IPython.core.display.HTML object>"
      ]
     },
     "metadata": {},
     "output_type": "display_data"
    }
   ],
   "source": [
    "%%html\n",
    "<table>\n",
    "  <tr>\n",
    "    <td id='flight' >Flight No</td>\n",
    "    <td>Launch site</td> \n",
    "    <td>Payload mass</td>\n",
    "   </tr>\n",
    "  <tr> \n",
    "    <td>1</td>\n",
    "    <td><a href='https://en.wikipedia.org/wiki/Florida'>Florida</a></td>\n",
    "    <td>300 kg</td>\n",
    "  </tr>\n",
    "  <tr>\n",
    "    <td>2</td>\n",
    "    <td><a href='https://en.wikipedia.org/wiki/Texas'>Texas</a></td>\n",
    "    <td>94 kg</td>\n",
    "  </tr>\n",
    "  <tr>\n",
    "    <td>3</td>\n",
    "    <td><a href='https://en.wikipedia.org/wiki/Florida'>Florida<a> </td>\n",
    "    <td>80 kg</td>\n",
    "  </tr>\n",
    "</table>"
   ]
  },
  {
   "cell_type": "code",
   "execution_count": 23,
   "id": "f6dbfd5e",
   "metadata": {},
   "outputs": [],
   "source": [
    "table=\"<table><tr><td id='flight'>Flight No</td><td>Launch site</td> <td>Payload mass</td></tr><tr> <td>1</td><td><a href='https://en.wikipedia.org/wiki/Florida'>Florida<a></td><td>300 kg</td></tr><tr><td>2</td><td><a href='https://en.wikipedia.org/wiki/Texas'>Texas</a></td><td>94 kg</td></tr><tr><td>3</td><td><a href='https://en.wikipedia.org/wiki/Florida'>Florida<a> </td><td>80 kg</td></tr></table>\""
   ]
  },
  {
   "cell_type": "code",
   "execution_count": 24,
   "id": "faedc229",
   "metadata": {},
   "outputs": [],
   "source": [
    "table_bs = BeautifulSoup(table, \"html.parser\")"
   ]
  },
  {
   "cell_type": "markdown",
   "id": "2d21190e",
   "metadata": {},
   "source": [
    "### Find All\n",
    "\n",
    "The find_all() method looks through a tag’s descendants and retrieves all descendants that match your filters.\n",
    "\n",
    "The Method signature for find_all(name, attrs, recursive, string, limit, **kwargs)"
   ]
  },
  {
   "cell_type": "markdown",
   "id": "4d7cbaac",
   "metadata": {},
   "source": [
    "### Name\n",
    "\n",
    "When we set the name parameter to a tag name, the method will extract all the tags with that name and its children."
   ]
  },
  {
   "cell_type": "code",
   "execution_count": 25,
   "id": "5ff37649",
   "metadata": {},
   "outputs": [
    {
     "data": {
      "text/plain": [
       "[<tr><td id=\"flight\">Flight No</td><td>Launch site</td> <td>Payload mass</td></tr>,\n",
       " <tr> <td>1</td><td><a href=\"https://en.wikipedia.org/wiki/Florida\">Florida<a></a></a></td><td>300 kg</td></tr>,\n",
       " <tr><td>2</td><td><a href=\"https://en.wikipedia.org/wiki/Texas\">Texas</a></td><td>94 kg</td></tr>,\n",
       " <tr><td>3</td><td><a href=\"https://en.wikipedia.org/wiki/Florida\">Florida<a> </a></a></td><td>80 kg</td></tr>]"
      ]
     },
     "execution_count": 25,
     "metadata": {},
     "output_type": "execute_result"
    }
   ],
   "source": [
    "# get all 'tr' tags from table\n",
    "table_rows = table_bs.find_all('tr')\n",
    "table_rows"
   ]
  },
  {
   "cell_type": "code",
   "execution_count": 26,
   "id": "712b01ed",
   "metadata": {},
   "outputs": [
    {
     "data": {
      "text/plain": [
       "<tr><td id=\"flight\">Flight No</td><td>Launch site</td> <td>Payload mass</td></tr>"
      ]
     },
     "execution_count": 26,
     "metadata": {},
     "output_type": "execute_result"
    }
   ],
   "source": [
    "first_row = table_rows[0]\n",
    "first_row"
   ]
  },
  {
   "cell_type": "code",
   "execution_count": 27,
   "id": "93e36611",
   "metadata": {},
   "outputs": [
    {
     "data": {
      "text/plain": [
       "bs4.element.Tag"
      ]
     },
     "execution_count": 27,
     "metadata": {},
     "output_type": "execute_result"
    }
   ],
   "source": [
    "# type is tag\n",
    "type(first_row)"
   ]
  },
  {
   "cell_type": "code",
   "execution_count": 28,
   "id": "e6151c44",
   "metadata": {},
   "outputs": [
    {
     "data": {
      "text/plain": [
       "<td id=\"flight\">Flight No</td>"
      ]
     },
     "execution_count": 28,
     "metadata": {},
     "output_type": "execute_result"
    }
   ],
   "source": [
    "# get child tag\n",
    "first_row_child = first_row.td\n",
    "first_row_child"
   ]
  },
  {
   "cell_type": "code",
   "execution_count": 29,
   "id": "63be120b",
   "metadata": {},
   "outputs": [
    {
     "name": "stdout",
     "output_type": "stream",
     "text": [
      "row 0 is <tr><td id=\"flight\">Flight No</td><td>Launch site</td> <td>Payload mass</td></tr>\n",
      "row 1 is <tr> <td>1</td><td><a href=\"https://en.wikipedia.org/wiki/Florida\">Florida<a></a></a></td><td>300 kg</td></tr>\n",
      "row 2 is <tr><td>2</td><td><a href=\"https://en.wikipedia.org/wiki/Texas\">Texas</a></td><td>94 kg</td></tr>\n",
      "row 3 is <tr><td>3</td><td><a href=\"https://en.wikipedia.org/wiki/Florida\">Florida<a> </a></a></td><td>80 kg</td></tr>\n"
     ]
    }
   ],
   "source": [
    "# iterate to get all rows of table\n",
    "for i, row in enumerate(table_rows):\n",
    "    print(\"row\", i, \"is\", row)"
   ]
  },
  {
   "cell_type": "markdown",
   "id": "7acf24a7",
   "metadata": {},
   "source": [
    "As row is a cell object, we can apply the method find_all to it and extract table cells in the object cells using the tag td, this is all the children with the name td. The result is a list, each element corresponds to a cell and is a Tag object, we can iterate through this list as well. We can extract the content using the string attribute."
   ]
  },
  {
   "cell_type": "code",
   "execution_count": 30,
   "id": "97383c06",
   "metadata": {},
   "outputs": [
    {
     "name": "stdout",
     "output_type": "stream",
     "text": [
      "row 0\n",
      "column 0 cell <td id=\"flight\">Flight No</td>\n",
      "column 1 cell <td>Launch site</td>\n",
      "column 2 cell <td>Payload mass</td>\n",
      "row 1\n",
      "column 0 cell <td>1</td>\n",
      "column 1 cell <td><a href=\"https://en.wikipedia.org/wiki/Florida\">Florida<a></a></a></td>\n",
      "column 2 cell <td>300 kg</td>\n",
      "row 2\n",
      "column 0 cell <td>2</td>\n",
      "column 1 cell <td><a href=\"https://en.wikipedia.org/wiki/Texas\">Texas</a></td>\n",
      "column 2 cell <td>94 kg</td>\n",
      "row 3\n",
      "column 0 cell <td>3</td>\n",
      "column 1 cell <td><a href=\"https://en.wikipedia.org/wiki/Florida\">Florida<a> </a></a></td>\n",
      "column 2 cell <td>80 kg</td>\n"
     ]
    }
   ],
   "source": [
    "for i, row in enumerate (table_rows):\n",
    "    print(\"row\", i)\n",
    "    cells = row.find_all('td')\n",
    "    for j, cell in enumerate (cells):\n",
    "        print(\"column\", j, \"cell\", cell)\n",
    "    "
   ]
  },
  {
   "cell_type": "markdown",
   "id": "dc80923b",
   "metadata": {},
   "source": [
    "If we use a list we can match against any item in that list."
   ]
  },
  {
   "cell_type": "code",
   "execution_count": 31,
   "id": "a41bac48",
   "metadata": {},
   "outputs": [
    {
     "data": {
      "text/plain": [
       "[<tr><td id=\"flight\">Flight No</td><td>Launch site</td> <td>Payload mass</td></tr>,\n",
       " <td id=\"flight\">Flight No</td>,\n",
       " <td>Launch site</td>,\n",
       " <td>Payload mass</td>,\n",
       " <tr> <td>1</td><td><a href=\"https://en.wikipedia.org/wiki/Florida\">Florida<a></a></a></td><td>300 kg</td></tr>,\n",
       " <td>1</td>,\n",
       " <td><a href=\"https://en.wikipedia.org/wiki/Florida\">Florida<a></a></a></td>,\n",
       " <td>300 kg</td>,\n",
       " <tr><td>2</td><td><a href=\"https://en.wikipedia.org/wiki/Texas\">Texas</a></td><td>94 kg</td></tr>,\n",
       " <td>2</td>,\n",
       " <td><a href=\"https://en.wikipedia.org/wiki/Texas\">Texas</a></td>,\n",
       " <td>94 kg</td>,\n",
       " <tr><td>3</td><td><a href=\"https://en.wikipedia.org/wiki/Florida\">Florida<a> </a></a></td><td>80 kg</td></tr>,\n",
       " <td>3</td>,\n",
       " <td><a href=\"https://en.wikipedia.org/wiki/Florida\">Florida<a> </a></a></td>,\n",
       " <td>80 kg</td>]"
      ]
     },
     "execution_count": 31,
     "metadata": {},
     "output_type": "execute_result"
    }
   ],
   "source": [
    "list_input=table_bs .find_all(name=[\"tr\", \"td\"])\n",
    "list_input"
   ]
  },
  {
   "cell_type": "markdown",
   "id": "187c90a8",
   "metadata": {},
   "source": [
    "**Filter on Attributes**\n",
    "\n",
    "If the argument is not recognized it will be turned into a filter on the tag’s attributes. For example the id argument, Beautiful Soup will filter against each tag’s id attribute. For example, the first td elements have a value of id of flight, therefore we can filter based on that id value."
   ]
  },
  {
   "cell_type": "code",
   "execution_count": 32,
   "id": "2333aa66",
   "metadata": {},
   "outputs": [
    {
     "data": {
      "text/plain": [
       "[<td id=\"flight\">Flight No</td>]"
      ]
     },
     "execution_count": 32,
     "metadata": {},
     "output_type": "execute_result"
    }
   ],
   "source": [
    "table_bs.find_all(id='flight')"
   ]
  },
  {
   "cell_type": "code",
   "execution_count": 34,
   "id": "6edd1188",
   "metadata": {},
   "outputs": [
    {
     "data": {
      "text/plain": [
       "[<a href=\"https://en.wikipedia.org/wiki/Florida\">Florida<a></a></a>,\n",
       " <a href=\"https://en.wikipedia.org/wiki/Florida\">Florida<a> </a></a>]"
      ]
     },
     "execution_count": 34,
     "metadata": {},
     "output_type": "execute_result"
    }
   ],
   "source": [
    "# find all the elements that have links to the Florida Wikipedia page\n",
    "\n",
    "links_Florida = table_bs.find_all(href = \"https://en.wikipedia.org/wiki/Florida\")\n",
    "links_Florida"
   ]
  },
  {
   "cell_type": "code",
   "execution_count": 35,
   "id": "38547bc7",
   "metadata": {},
   "outputs": [
    {
     "data": {
      "text/plain": [
       "[<a href=\"https://en.wikipedia.org/wiki/Florida\">Florida<a></a></a>,\n",
       " <a href=\"https://en.wikipedia.org/wiki/Texas\">Texas</a>,\n",
       " <a href=\"https://en.wikipedia.org/wiki/Florida\">Florida<a> </a></a>]"
      ]
     },
     "execution_count": 35,
     "metadata": {},
     "output_type": "execute_result"
    }
   ],
   "source": [
    "# find all all tags with href value (href = True)\n",
    "\n",
    "values_href = table_bs.find_all(href = True)\n",
    "values_href"
   ]
  },
  {
   "cell_type": "markdown",
   "id": "fbb35f41",
   "metadata": {},
   "source": [
    "**Search Strings**\n",
    "\n",
    "With string you can search for strings instead of tags, where we find all the elments with Florida:"
   ]
  },
  {
   "cell_type": "code",
   "execution_count": 36,
   "id": "2bf3fd96",
   "metadata": {},
   "outputs": [
    {
     "data": {
      "text/plain": [
       "['Florida', 'Florida']"
      ]
     },
     "execution_count": 36,
     "metadata": {},
     "output_type": "execute_result"
    }
   ],
   "source": [
    "table_bs.find_all(string = 'Florida')"
   ]
  },
  {
   "cell_type": "markdown",
   "id": "67ee2f66",
   "metadata": {},
   "source": [
    "**Find ()**\n",
    "\n",
    "The find_all() method scans the entire document looking for results. If you are looking for one element you can use the find() method to find the first element in the document."
   ]
  },
  {
   "cell_type": "code",
   "execution_count": 37,
   "id": "187ec17e",
   "metadata": {},
   "outputs": [
    {
     "data": {
      "text/html": [
       "<h3>Rocket Launch </h3>\n",
       "\n",
       "<p>\n",
       "<table class='rocket'>\n",
       "  <tr>\n",
       "    <td>Flight No</td>\n",
       "    <td>Launch site</td> \n",
       "    <td>Payload mass</td>\n",
       "  </tr>\n",
       "  <tr>\n",
       "    <td>1</td>\n",
       "    <td>Florida</td>\n",
       "    <td>300 kg</td>\n",
       "  </tr>\n",
       "  <tr>\n",
       "    <td>2</td>\n",
       "    <td>Texas</td>\n",
       "    <td>94 kg</td>\n",
       "  </tr>\n",
       "  <tr>\n",
       "    <td>3</td>\n",
       "    <td>Florida </td>\n",
       "    <td>80 kg</td>\n",
       "  </tr>\n",
       "</table>\n",
       "</p>\n",
       "<p>\n",
       "\n",
       "<h3>Pizza Party  </h3>\n",
       "  \n",
       "    \n",
       "<table class='pizza'>\n",
       "  <tr>\n",
       "    <td>Pizza Place</td>\n",
       "    <td>Orders</td> \n",
       "    <td>Slices </td>\n",
       "   </tr>\n",
       "  <tr>\n",
       "    <td>Domino's Pizza</td>\n",
       "    <td>10</td>\n",
       "    <td>100</td>\n",
       "  </tr>\n",
       "  <tr>\n",
       "    <td>Little Caesars</td>\n",
       "    <td>12</td>\n",
       "    <td >144 </td>\n",
       "  </tr>\n",
       "  <tr>\n",
       "    <td>Papa John's </td>\n",
       "    <td>15 </td>\n",
       "    <td>165</td>\n",
       "  </tr>\n"
      ],
      "text/plain": [
       "<IPython.core.display.HTML object>"
      ]
     },
     "metadata": {},
     "output_type": "display_data"
    }
   ],
   "source": [
    "%%html\n",
    "<h3>Rocket Launch </h3>\n",
    "\n",
    "<p>\n",
    "<table class='rocket'>\n",
    "  <tr>\n",
    "    <td>Flight No</td>\n",
    "    <td>Launch site</td> \n",
    "    <td>Payload mass</td>\n",
    "  </tr>\n",
    "  <tr>\n",
    "    <td>1</td>\n",
    "    <td>Florida</td>\n",
    "    <td>300 kg</td>\n",
    "  </tr>\n",
    "  <tr>\n",
    "    <td>2</td>\n",
    "    <td>Texas</td>\n",
    "    <td>94 kg</td>\n",
    "  </tr>\n",
    "  <tr>\n",
    "    <td>3</td>\n",
    "    <td>Florida </td>\n",
    "    <td>80 kg</td>\n",
    "  </tr>\n",
    "</table>\n",
    "</p>\n",
    "<p>\n",
    "\n",
    "<h3>Pizza Party  </h3>\n",
    "  \n",
    "    \n",
    "<table class='pizza'>\n",
    "  <tr>\n",
    "    <td>Pizza Place</td>\n",
    "    <td>Orders</td> \n",
    "    <td>Slices </td>\n",
    "   </tr>\n",
    "  <tr>\n",
    "    <td>Domino's Pizza</td>\n",
    "    <td>10</td>\n",
    "    <td>100</td>\n",
    "  </tr>\n",
    "  <tr>\n",
    "    <td>Little Caesars</td>\n",
    "    <td>12</td>\n",
    "    <td >144 </td>\n",
    "  </tr>\n",
    "  <tr>\n",
    "    <td>Papa John's </td>\n",
    "    <td>15 </td>\n",
    "    <td>165</td>\n",
    "  </tr>"
   ]
  },
  {
   "cell_type": "code",
   "execution_count": 38,
   "id": "5a619252",
   "metadata": {},
   "outputs": [],
   "source": [
    "two_tables = \"<h3>Rocket Launch </h3><p><table class='rocket'><tr><td>Flight No</td><td>Launch site</td> <td>Payload mass</td></tr><tr><td>1</td><td>Florida</td><td>300 kg</td></tr><tr><td>2</td><td>Texas</td><td>94 kg</td></tr><tr><td>3</td><td>Florida </td><td>80 kg</td></tr></table></p><p><h3>Pizza Party  </h3><table class='pizza'><tr><td>Pizza Place</td><td>Orders</td> <td>Slices </td></tr><tr><td>Domino's Pizza</td><td>10</td><td>100</td></tr><tr><td>Little Caesars</td><td>12</td><td >144 </td></tr><tr><td>Papa John's </td><td>15 </td><td>165</td></tr>\""
   ]
  },
  {
   "cell_type": "code",
   "execution_count": 39,
   "id": "851ae093",
   "metadata": {},
   "outputs": [],
   "source": [
    "two_tables_bs = BeautifulSoup(two_tables, 'html.parser')"
   ]
  },
  {
   "cell_type": "code",
   "execution_count": 40,
   "id": "09a4d024",
   "metadata": {},
   "outputs": [
    {
     "data": {
      "text/plain": [
       "<table class=\"rocket\"><tr><td>Flight No</td><td>Launch site</td> <td>Payload mass</td></tr><tr><td>1</td><td>Florida</td><td>300 kg</td></tr><tr><td>2</td><td>Texas</td><td>94 kg</td></tr><tr><td>3</td><td>Florida </td><td>80 kg</td></tr></table>"
      ]
     },
     "execution_count": 40,
     "metadata": {},
     "output_type": "execute_result"
    }
   ],
   "source": [
    "# find first table\n",
    "\n",
    "two_tables_bs.find(\"table\")"
   ]
  },
  {
   "cell_type": "code",
   "execution_count": 42,
   "id": "19433713",
   "metadata": {},
   "outputs": [
    {
     "data": {
      "text/plain": [
       "<table class=\"pizza\"><tr><td>Pizza Place</td><td>Orders</td> <td>Slices </td></tr><tr><td>Domino's Pizza</td><td>10</td><td>100</td></tr><tr><td>Little Caesars</td><td>12</td><td>144 </td></tr><tr><td>Papa John's </td><td>15 </td><td>165</td></tr></table>"
      ]
     },
     "execution_count": 42,
     "metadata": {},
     "output_type": "execute_result"
    }
   ],
   "source": [
    "# find second table\n",
    "\n",
    "two_tables_bs.find(\"table\", class_ = 'pizza')"
   ]
  },
  {
   "cell_type": "markdown",
   "id": "ea6a77ff",
   "metadata": {},
   "source": [
    "### <font color='green'> Downloading And Scraping The Contents Of A Web Page </font>"
   ]
  },
  {
   "cell_type": "code",
   "execution_count": 43,
   "id": "4f76585f",
   "metadata": {},
   "outputs": [
    {
     "data": {
      "text/plain": [
       "'<!DOCTYPE html>\\n<html lang=\"en-ph\" dir=\"ltr\">\\n  <head>\\n    <meta charset=\"utf-8\" />\\n<script>digitalData = {\\n    \"page\": {\\n        \"category\": [],\\n        \"pageInfo\": {\\n            \"language\": \"en-PH\",\\n            \"country\": \"PH\",\\n            \"publisher\": \"IBM Corporation\",\\n            \"version\": \"v19\",\\n            \"ibm\": {\\n                \"contentDelivery\": \"Drupal 9\",\\n                \"contentProducer\": \"2598578 - Page Builder\",\\n                \"owner\": \"Peter Barros/White Plains/IBM\",\\n                \"siteID\": \"DRUPAL\",\\n                \"contactModuleConfiguration\": {\\n                    \"contactInformationBundleKey\": {\\n                        \"focusArea\": \"Miscellaneous - About IBM\",\\n                        \"languageCode\": \"en\",\\n                        \"regionCode\": \"PH\"\\n                    },\\n                    \"contactModuleTranslationKey\": {\\n                        \"languageCode\": \"en\",\\n                        \"regionCode\": \"PH\"\\n                    }\\n                },\\n                \"config\": {\\n                    \"masthead\": {\\n                        \"type\": \"default\"\\n                    },\\n                    \"footer\": {\\n                        \"type\": \"default\"\\n                    }\\n                }\\n            },\\n            \"publishDate\": \"2022-05-31\",\\n            \"effectiveDate\": \"2021-03-08\",\\n            \"expiryDate\": \"2026-05-31\"\\n        }\\n    }\\n}</script>\\n<meta name=\"geo.country\" content=\"PH\" />\\n<link rel=\"canonical\" href=\"https://www.ibm.com/ph-en\" />\\n<meta name=\"robots\" content=\"index, follow\" />\\n<meta name=\"referrer\" content=\"no-referrer-when-downgrade\" />\\n<meta name=\"rights\" content=\"© Copyright IBM Corporation 2022\" />\\n<meta name=\"description\" content=\"For more than a century IBM has been dedicated to every client&#039;s success and to creating innovations that matter for the world\" />\\n<meta property=\"og:type\" content=\"website\" />\\n<meta property=\"og:url\" content=\"https://www.ibm.com/ph-en\" />\\n<meta property=\"og:title\" content=\"IBM\" />\\n<meta property=\"og:description\" content=\"For more than a century IBM has been dedicated to every client&#039;s success and to creating innovations that matter for the world\" />\\n<meta property=\"og:image\" content=\"https://1.cms.s81c.com/sites/default/files/2021-02-17/20210215-ls-red-hat-cloud-2304x983.jpg\" />\\n<meta property=\"og:locale\" content=\"en-ph\" />\\n<meta name=\"twitter:card\" content=\"summary\" />\\n<script>cpp = {\"path\":\"\\\\/cloud\\\\/ajax\\\\/product\\\\/{product}\"}</script>\\n<meta name=\"viewport\" content=\"width=device-width, initial-scale=1.0\" />\\n<script data-title=\"Components design metadata\">/*\\nLeadspace: v19 - module_2e - Leadspace (2E)\\n\\nBands/Sections:\\n1. v19 - Carousel Module 1B - Features (1B)\\n2. v19 - Carousel Module 1B - Trials (1B)\\n3. v19 - Module 12A - Newsflash (12A)\\n4. v19 - Carousel Module 2B - Products (2B)\\n5. v19 - Module 11A (Double) - Content Spotlight (11A)\\n\\n*/</script>\\n<link rel=\"alternate\" hreflang=\"en-af\" href=\"https://www.ibm.com/af-en\" />\\n<link rel=\"alternate\" hreflang=\"fr-dz\" href=\"https://www.ibm.com/dz-fr\" />\\n<link rel=\"alternate\" hreflang=\"pt-ao\" href=\"https://www.ibm.com/ao-pt\" />\\n<link rel=\"alternate\" hreflang=\"en-ai\" href=\"https://www.ibm.com/ai-en\" />\\n<link rel=\"alternate\" hreflang=\"en-ag\" href=\"https://www.ibm.com/ag-en\" />\\n<link rel=\"alternate\" hreflang=\"es-ar\" href=\"https://www.ibm.com/ar-es\" />\\n<link rel=\"alternate\" hreflang=\"en-aw\" href=\"https://www.ibm.com/aw-en\" />\\n<link rel=\"alternate\" hreflang=\"en-au\" href=\"https://www.ibm.com/au-en\" />\\n<link rel=\"alternate\" hreflang=\"de-at\" href=\"https://www.ibm.com/at-de\" />\\n<link rel=\"alternate\" hreflang=\"en-bs\" href=\"https://www.ibm.com/bs-en\" />\\n<link rel=\"alternate\" hreflang=\"en-bh\" href=\"https://www.ibm.com/bh-en\" />\\n<link rel=\"alternate\" hreflang=\"en-bd\" href=\"https://www.ibm.com/bd-en\" />\\n<link rel=\"alternate\" hreflang=\"en-bb\" href=\"https://www.ibm.com/bb-en\" />\\n<link rel=\"alternate\" hreflang=\"en-be\" href=\"https://www.ibm.com/be-en\" />\\n<link rel=\"alternate\" hreflang=\"en-bm\" href=\"https://www.ibm.com/bm-en\" />\\n<link rel=\"alternate\" hreflang=\"es-bo\" href=\"https://www.ibm.com/bo-es\" />\\n<link rel=\"alternate\" hreflang=\"en-bw\" href=\"https://www.ibm.com/bw-en\" />\\n<link rel=\"alternate\" hreflang=\"pt-br\" href=\"https://www.ibm.com/br-pt\" />\\n<link rel=\"alternate\" hreflang=\"en-vg\" href=\"https://www.ibm.com/vg-en\" />\\n<link rel=\"alternate\" hreflang=\"en-bn\" href=\"https://www.ibm.com/bn-en\" />\\n<link rel=\"alternate\" hreflang=\"en-bg\" href=\"https://www.ibm.com/bg-en\" />\\n<link rel=\"alternate\" hreflang=\"fr-bf\" href=\"https://www.ibm.com/bf-fr\" />\\n<link rel=\"alternate\" hreflang=\"en-kh\" href=\"https://www.ibm.com/kh-en\" />\\n<link rel=\"alternate\" hreflang=\"fr-cm\" href=\"https://www.ibm.com/cm-fr\" />\\n<link rel=\"alternate\" hreflang=\"en-ca\" href=\"https://www.ibm.com/ca-en\" />\\n<link rel=\"alternate\" hreflang=\"fr-ca\" href=\"https://www.ibm.com/ca-fr\" />\\n<link rel=\"alternate\" hreflang=\"en-ky\" href=\"https://www.ibm.com/ky-en\" />\\n<link rel=\"alternate\" hreflang=\"fr-td\" href=\"https://www.ibm.com/td-fr\" />\\n<link rel=\"alternate\" hreflang=\"es-cl\" href=\"https://www.ibm.com/cl-es\" />\\n<link rel=\"alternate\" hreflang=\"zh-cn\" href=\"https://www.ibm.com/cn-zh\" />\\n<link rel=\"alternate\" hreflang=\"es-co\" href=\"https://www.ibm.com/co-es\" />\\n<link rel=\"alternate\" hreflang=\"fr-cd\" href=\"https://www.ibm.com/cd-fr\" />\\n<link rel=\"alternate\" hreflang=\"fr-cg\" href=\"https://www.ibm.com/cg-fr\" />\\n<link rel=\"alternate\" hreflang=\"es-cr\" href=\"https://www.ibm.com/cr-es\" />\\n<link rel=\"alternate\" hreflang=\"en-hr\" href=\"https://www.ibm.com/hr-en\" />\\n<link rel=\"alternate\" hreflang=\"en-cw\" href=\"https://www.ibm.com/cw-en\" />\\n<link rel=\"alternate\" hreflang=\"en-cy\" href=\"https://www.ibm.com/cy-en\" />\\n<link rel=\"alternate\" hreflang=\"en-cz\" href=\"https://www.ibm.com/cz-en\" />\\n<link rel=\"alternate\" hreflang=\"en-dm\" href=\"https://www.ibm.com/dm-en\" />\\n<link rel=\"alternate\" hreflang=\"en-dk\" href=\"https://www.ibm.com/dk-en\" />\\n<link rel=\"alternate\" hreflang=\"es-ec\" href=\"https://www.ibm.com/ec-es\" />\\n<link rel=\"alternate\" hreflang=\"en-eg\" href=\"https://www.ibm.com/eg-en\" />\\n<link rel=\"alternate\" hreflang=\"en-ee\" href=\"https://www.ibm.com/ee-en\" />\\n<link rel=\"alternate\" hreflang=\"en-et\" href=\"https://www.ibm.com/et-en\" />\\n<link rel=\"alternate\" hreflang=\"en-fi\" href=\"https://www.ibm.com/fi-en\" />\\n<link rel=\"alternate\" hreflang=\"fr-fr\" href=\"https://www.ibm.com/fr-fr\" />\\n<link rel=\"alternate\" hreflang=\"fr-ga\" href=\"https://www.ibm.com/ga-fr\" />\\n<link rel=\"alternate\" hreflang=\"de-de\" href=\"https://www.ibm.com/de-de\" />\\n<link rel=\"alternate\" hreflang=\"en-gh\" href=\"https://www.ibm.com/gh-en\" />\\n<link rel=\"alternate\" hreflang=\"en-gr\" href=\"https://www.ibm.com/gr-en\" />\\n<link rel=\"alternate\" hreflang=\"en-gd\" href=\"https://www.ibm.com/gd-en\" />\\n<link rel=\"alternate\" hreflang=\"en-gy\" href=\"https://www.ibm.com/gy-en\" />\\n<link rel=\"alternate\" hreflang=\"en-hk\" href=\"https://www.ibm.com/hk-en\" />\\n<link rel=\"alternate\" hreflang=\"en-hu\" href=\"https://www.ibm.com/hu-en\" />\\n<link rel=\"alternate\" hreflang=\"en-in\" href=\"https://www.ibm.com/in-en\" />\\n<link rel=\"alternate\" hreflang=\"en-id\" href=\"https://www.ibm.com/id-en\" />\\n<link rel=\"alternate\" hreflang=\"en-iq\" href=\"https://www.ibm.com/iq-en\" />\\n<link rel=\"alternate\" hreflang=\"en-ie\" href=\"https://www.ibm.com/ie-en\" />\\n<link rel=\"alternate\" hreflang=\"en-il\" href=\"https://www.ibm.com/il-en\" />\\n<link rel=\"alternate\" hreflang=\"it-it\" href=\"https://www.ibm.com/it-it\" />\\n<link rel=\"alternate\" hreflang=\"fr-ci\" href=\"https://www.ibm.com/ci-fr\" />\\n<link rel=\"alternate\" hreflang=\"en-jm\" href=\"https://www.ibm.com/jm-en\" />\\n<link rel=\"alternate\" hreflang=\"ja-jp\" href=\"https://www.ibm.com/jp-ja\" />\\n<link rel=\"alternate\" hreflang=\"en-jo\" href=\"https://www.ibm.com/jo-en\" />\\n<link rel=\"alternate\" hreflang=\"en-kz\" href=\"https://www.ibm.com/kz-en\" />\\n<link rel=\"alternate\" hreflang=\"en-ke\" href=\"https://www.ibm.com/ke-en\" />\\n<link rel=\"alternate\" hreflang=\"ko-kr\" href=\"https://www.ibm.com/kr-ko\" />\\n<link rel=\"alternate\" hreflang=\"en-kw\" href=\"https://www.ibm.com/kw-en\" />\\n<link rel=\"alternate\" hreflang=\"en-lv\" href=\"https://www.ibm.com/lv-en\" />\\n<link rel=\"alternate\" hreflang=\"en-lb\" href=\"https://www.ibm.com/lb-en\" />\\n<link rel=\"alternate\" hreflang=\"en-ly\" href=\"https://www.ibm.com/ly-en\" />\\n<link rel=\"alternate\" hreflang=\"en-lt\" href=\"https://www.ibm.com/lt-en\" />\\n<link rel=\"alternate\" hreflang=\"fr-mg\" href=\"https://www.ibm.com/mg-fr\" />\\n<link rel=\"alternate\" hreflang=\"en-mw\" href=\"https://www.ibm.com/mw-en\" />\\n<link rel=\"alternate\" hreflang=\"en-my\" href=\"https://www.ibm.com/my-en\" />\\n<link rel=\"alternate\" hreflang=\"fr-mu\" href=\"https://www.ibm.com/mu-fr\" />\\n<link rel=\"alternate\" hreflang=\"es-mx\" href=\"https://www.ibm.com/mx-es\" />\\n<link rel=\"alternate\" hreflang=\"en-ms\" href=\"https://www.ibm.com/ms-en\" />\\n<link rel=\"alternate\" hreflang=\"fr-ma\" href=\"https://www.ibm.com/ma-fr\" />\\n<link rel=\"alternate\" hreflang=\"pt-mz\" href=\"https://www.ibm.com/mz-pt\" />\\n<link rel=\"alternate\" hreflang=\"en-na\" href=\"https://www.ibm.com/na-en\" />\\n<link rel=\"alternate\" hreflang=\"en-np\" href=\"https://www.ibm.com/np-en\" />\\n<link rel=\"alternate\" hreflang=\"en-nl\" href=\"https://www.ibm.com/nl-en\" />\\n<link rel=\"alternate\" hreflang=\"en-nz\" href=\"https://www.ibm.com/nz-en\" />\\n<link rel=\"alternate\" hreflang=\"fr-ne\" href=\"https://www.ibm.com/ne-fr\" />\\n<link rel=\"alternate\" hreflang=\"en-ng\" href=\"https://www.ibm.com/ng-en\" />\\n<link rel=\"alternate\" hreflang=\"en-no\" href=\"https://www.ibm.com/no-en\" />\\n<link rel=\"alternate\" hreflang=\"en-om\" href=\"https://www.ibm.com/om-en\" />\\n<link rel=\"alternate\" hreflang=\"en-pk\" href=\"https://www.ibm.com/pk-en\" />\\n<link rel=\"alternate\" hreflang=\"es-py\" href=\"https://www.ibm.com/py-es\" />\\n<link rel=\"alternate\" hreflang=\"es-pe\" href=\"https://www.ibm.com/pe-es\" />\\n<link rel=\"alternate\" hreflang=\"en-ph\" href=\"https://www.ibm.com/ph-en\" />\\n<link rel=\"alternate\" hreflang=\"pl-pl\" href=\"https://www.ibm.com/pl-pl\" />\\n<link rel=\"alternate\" hreflang=\"en-pt\" href=\"https://www.ibm.com/pt-en\" />\\n<link rel=\"alternate\" hreflang=\"en-qa\" href=\"https://www.ibm.com/qa-en\" />\\n<link rel=\"alternate\" hreflang=\"en-ro\" href=\"https://www.ibm.com/ro-en\" />\\n<link rel=\"alternate\" hreflang=\"ru-ru\" href=\"https://www.ibm.com/ru-ru\" />\\n<link rel=\"alternate\" hreflang=\"en-kn\" href=\"https://www.ibm.com/kn-en\" />\\n<link rel=\"alternate\" hreflang=\"en-lc\" href=\"https://www.ibm.com/lc-en\" />\\n<link rel=\"alternate\" hreflang=\"en-vc\" href=\"https://www.ibm.com/vc-en\" />\\n<link rel=\"alternate\" hreflang=\"ar-sa\" href=\"https://www.ibm.com/sa-ar\" />\\n<link rel=\"alternate\" hreflang=\"en-sa\" href=\"https://www.ibm.com/sa-en\" />\\n<link rel=\"alternate\" hreflang=\"fr-sn\" href=\"https://www.ibm.com/sn-fr\" />\\n<link rel=\"alternate\" hreflang=\"en-rs\" href=\"https://www.ibm.com/rs-en\" />\\n<link rel=\"alternate\" hreflang=\"fr-sc\" href=\"https://www.ibm.com/sc-fr\" />\\n<link rel=\"alternate\" hreflang=\"en-sl\" href=\"https://www.ibm.com/sl-en\" />\\n<link rel=\"alternate\" hreflang=\"en-sg\" href=\"https://www.ibm.com/sg-en\" />\\n<link rel=\"alternate\" hreflang=\"en-sk\" href=\"https://www.ibm.com/sk-en\" />\\n<link rel=\"alternate\" hreflang=\"en-si\" href=\"https://www.ibm.com/si-en\" />\\n<link rel=\"alternate\" hreflang=\"en-za\" href=\"https://www.ibm.com/za-en\" />\\n<link rel=\"alternate\" hreflang=\"es-es\" href=\"https://www.ibm.com/es-es\" />\\n<link rel=\"alternate\" hreflang=\"en-lk\" href=\"https://www.ibm.com/lk-en\" />\\n<link rel=\"alternate\" hreflang=\"en-sr\" href=\"https://www.ibm.com/sr-en\" />\\n<link rel=\"alternate\" hreflang=\"en-se\" href=\"https://www.ibm.com/se-en\" />\\n<link rel=\"alternate\" hreflang=\"fr-ch\" href=\"https://www.ibm.com/ch-fr\" />\\n<link rel=\"alternate\" hreflang=\"de-ch\" href=\"https://www.ibm.com/ch-de\" />\\n<link rel=\"alternate\" hreflang=\"zh-tw\" href=\"https://www.ibm.com/tw-zh\" />\\n<link rel=\"alternate\" hreflang=\"en-tz\" href=\"https://www.ibm.com/tz-en\" />\\n<link rel=\"alternate\" hreflang=\"en-th\" href=\"https://www.ibm.com/th-en\" />\\n<link rel=\"alternate\" hreflang=\"en-tt\" href=\"https://www.ibm.com/tt-en\" />\\n<link rel=\"alternate\" hreflang=\"fr-tn\" href=\"https://www.ibm.com/tn-fr\" />\\n<link rel=\"alternate\" hreflang=\"tr-tr\" href=\"https://www.ibm.com/tr-tr\" />\\n<link rel=\"alternate\" hreflang=\"en-ye\" href=\"https://www.ibm.com/ye-en\" />\\n<link rel=\"alternate\" hreflang=\"en-tc\" href=\"https://www.ibm.com/tc-en\" />\\n<link rel=\"alternate\" hreflang=\"en-ua\" href=\"https://www.ibm.com/ua-en\" />\\n<link rel=\"alternate\" hreflang=\"en-ug\" href=\"https://www.ibm.com/ug-en\" />\\n<link rel=\"alternate\" hreflang=\"ar-ae\" href=\"https://www.ibm.com/ae-ar\" />\\n<link rel=\"alternate\" hreflang=\"en-ae\" href=\"https://www.ibm.com/ae-en\" />\\n<link rel=\"alternate\" hreflang=\"en-gb\" href=\"https://www.ibm.com/uk-en\" />\\n<link rel=\"alternate\" hreflang=\"es-uy\" href=\"https://www.ibm.com/uy-es\" />\\n<link rel=\"alternate\" hreflang=\"en-uz\" href=\"https://www.ibm.com/uz-en\" />\\n<link rel=\"alternate\" hreflang=\"es-ve\" href=\"https://www.ibm.com/ve-es\" />\\n<link rel=\"alternate\" hreflang=\"en-vn\" href=\"https://www.ibm.com/vn-en\" />\\n<link rel=\"alternate\" hreflang=\"en-zm\" href=\"https://www.ibm.com/zm-en\" />\\n<link rel=\"alternate\" hreflang=\"en-zw\" href=\"https://www.ibm.com/zw-en\" />\\n<link rel=\"revision\" href=\"https://www.ibm.com/ph-en\" />\\n\\n    <title>IBM - Philippines | IBM</title>\\n    <link rel=\\'dns-prefetch\\' href=\\'//1.www.s81c.com\\' />\\n<link rel=\\'preconnect\\' href=\\'//1.www.s81c.com\\' />\\n    <link href=\"//1.www.s81c.com/common/v18/drupal/css/www.css\" rel=\"preload\" as=\"style\"  />\\n    <link rel=\"stylesheet\" href=\"//1.www.s81c.com/common/v18/drupal/css/www.css\" media=\"all\" />\\n<link href=\"//1.www.s81c.com/common/v18/drupal/css/grid-fluid.css\" rel=\"preload\" as=\"style\"  />\\n<link rel=\"stylesheet\" href=\"//1.www.s81c.com/common/v18/drupal/css/grid-fluid.css\" media=\"all\" />\\n<link href=\"//1.www.s81c.com/common/v18/drupal/css/tables.css\" rel=\"preload\" as=\"style\"  />\\n<link rel=\"stylesheet\" href=\"//1.www.s81c.com/common/v18/drupal/css/tables.css\" media=\"all\" />\\n<link rel=\"preload\" href=\"//1.www.s81c.com/common/fonts/plex/v1/ibmplexsans-regular.woff2\" as=\"font\" type=\"font/woff2\" crossorigin>\\n<link rel=\"preload\" href=\"//1.www.s81c.com/common/fonts/plex/v1/ibmplexsans-regularitalic.woff2\" as=\"font\" type=\"font/woff2\" crossorigin>\\n<link rel=\"preload\" href=\"//1.www.s81c.com/common/fonts/plex/v1/ibmplexsans-semibold.woff2\" as=\"font\" type=\"font/woff2\" crossorigin>\\n<link rel=\"preload\" href=\"//1.www.s81c.com/common/fonts/icons-ibm-v12.woff\" as=\"font\" type=\"font/woff\" crossorigin>\\n<link rel=\"preload\" href=\"//1.www.s81c.com/common/fonts/plex/v1/ibmplexsans-light.woff2\" as=\"font\" type=\"font/woff2\" crossorigin>\\n    <link rel=\"stylesheet\" media=\"all\" href=\"//1.www.s81c.com/common/v19a/css/www.css\" />\\n<link rel=\"stylesheet\" media=\"all\" href=\"//1.cms.s81c.com/sites/default/files/css/css_X_Kv67E4AMGKCf_NeJPwVVG50LwXuNLER5ujvwZwOMU.css\" />\\n<link rel=\"stylesheet\" media=\"all\" href=\"//1.cms.s81c.com/sites/default/files/css/css_85KPJRKrhmnymPvMs-oSJCI72T4_MxK5_sB_aTl-i90.css\" />\\n\\n    <script src=\"//1.www.s81c.com/common/stats/ibm-common.js\"></script>\\n<script src=\"//1.www.s81c.com/common/v18/drupal/js/www.js\" defer></script>\\n<script src=\"//1.www.s81c.com/common/carbon/plex/load-non-latin-plex.js\" defer></script>\\n<script src=\"//1.www.s81c.com/common/v19a/js/www.js\" defer></script>\\n\\n    <noscript>\\n      <link rel=\"stylesheet\" type=\"text/css\" href=\"//1.cms.s81c.com/modules/contrib/hc_fractal/dist/css/no-js.css\" />\\n    </noscript>\\n  </head>\\n  <body id=\"ibm-com\"  uuid=\"13191044-6a14-4729-9e45-bd694fad7d27\" class=\"path-node page-node-type-page-wrapper ibm-type\">\\n    \\n      <div class=\"dialog-off-canvas-main-canvas\" data-off-canvas-main-canvas>\\n    <div id=\"ibm-top\" class=\"ibm-landing-page\">\\n    <div class=\"region region-masthead\">\\n    \\n\\n    \\n    \\n\\n<div id=\"ibm-masthead\" role=\"banner\" aria-label=\"IBM\" data-mhtype=\"alternate\" class=\"simple  ibm-mhtype-alternate\">\\n  <div id=\"ibm-universal-nav\">\\n    <nav role=\"navigation\" aria-label=\"IBM\">\\n      <div id=\"ibm-home\"><a href=\"https://www.ibm.com/ph/en\">IBM®</a></div>\\n                    <!-- Menu -->\\n              \\n              <ul aria-label=\"\" role=\"toolbar\" class=\"ibm-masthead-categories\">\\n\\n              </ul>\\n      \\n      <ul id=\"ibm-menu-links\" role=\"toolbar\" aria-label=\"Site map\">\\n        <li><a href=\"https://www.ibm.com/sitemap/ph/en\">Site map</a></li>\\n      </ul>\\n    </nav>\\n\\n          <div id=\"ibm-search-module\" role=\"search\" aria-labelledby=\"ibm-masthead\">\\n        <form id=\"ibm-search-form\" action=\"https://www.ibm.com/Search/\" method=\"get\">\\n          <p>\\n            <label for=\"q\">IBM</label>\\n            <input type=\"text\" maxlength=\"100\" value=\"\" placeholder=Search name=\"q\" id=\"q\" aria-label=\"Search\"/>\\n            <input type=\"hidden\" value=\"18\" name=\"v\"/>\\n            <input type=\"hidden\" value=\"utf\" name=\"en\"/>\\n            <input type=\"hidden\" value=\"en\" name=\"lang\"/>\\n            <input type=\"hidden\" value=\"ph\" name=\"cc\"/>\\n            <input type=\"submit\" id=\"ibm-search\" class=\"ibm-btn-search\" value=\"Submit\"/>\\n          </p>\\n        </form>\\n      </div>\\n    \\n\\n  </div> \\n  </div>\\n\\n  </div>\\n\\n  <div id=\"ibm-content-wrapper\">\\n      <header  aria-label=\"Navigation Header\">\\n        \\n\\n  </header>\\n\\n\\n\\n      <div class=\"region region-help\">\\n    <div data-drupal-messages-fallback class=\"hidden\"></div>\\n\\n  </div>\\n\\n      <div class=\"region region-content\">\\n    <div id=\"block-ibm-duo-content\">\\n  \\n    \\n      \\n\\n\\n\\n\\n\\n\\n            \\n\\n\\n\\n\\n\\n\\n\\n\\n  <section  role=\"article\" about=\"/ph-en/node/2598576\" class=\"ibm-duo-leadspace ibm-duo-leadspace-large ibm-background-gray-10\" data-bg-lazy-load>\\n    <div class=\"ibm-grid-container ibm-duo-leadspace-large__container\">\\n\\n      <div class=\"ibm-grid-col-sm-4-4 ibm-grid-col-md-8-4 ibm-grid-col-lg-16-6 ibm-duo-leadspace-large__content\">\\n                  <div class=\"ibm-grid-col-sm-4-3 ibm-grid-col-lg-16-12 ibm-grid-col-xlg-16-16 ibm-grid-col-seamless ibm-mb-4 ibm-duo-leadspace-large__headline ani-reveal ani-fadeInUp\" data-wow-delay=\".2s\">\\n            <h1 class=\"bx--type-expressive-heading-05 bx--type-light ibm-textcolor-gray-90 ibm-pb-0 ibm-mb-0\">\\n                  <span>The era of creativity has begun</span>\\n\\n            </h1>\\n          </div>\\n        \\n        <div class=\"ibm-duo-leadspace-large__subhead\">\\n                      <div class=\"ibm-grid-col-sm-4-3 ibm-grid-col-lg-16-10 ibm-grid-col-xlg-16-12 ibm-grid-col-seamless ani-reveal ani-fadeInUp\" data-wow-delay=\".4s\">\\n              <p class=\"bx--type-expressive-heading-03 ibm-textcolor-gray-70 ibm-mb-0\">\\n                    <span>Introducing the visionaries who apply technology to drive progress in business — and the world</span>\\n\\n              </p>\\n            </div>\\n          \\n            <div class=\"ibm-btn-row ibm-button-link ibm-mt-4 ani-reveal ani-fadeInUp\" data-wow-delay=\".6s\">\\n          \\n\\n        \\n  \\n  \\n  \\n\\n\\n\\n\\n        \\n  <div class=\\'ibm-duo-button-item\\'>\\n    <a  target=\"_blank\" href=\"https://www.ibm.com/lets-create/new-creators/sg-en/?lnk=phhpv18l1\" class=\"ibm-btn-pri ibm-duo-btn-cta ibm-duo-u--link-icon\">\\n      Meet the New Creators\\n      \\n    \\n        \\n\\n                      <svg focusable=\"false\" class=\"ibm-duo-u--link-icon--arrow-right\" preserveAspectRatio=\"xMidYMid meet\" xmlns=\"http://www.w3.org/2000/svg\" fill=\"currentColor\" aria-hidden=\"true\" aria-label=\"View this link\" width=\"20\" height=\"20\" viewBox=\"0 0 20 20\" slot=\"icon\"><path d=\"M11.8 2.8L10.8 3.8 16.2 9.3 1 9.3 1 10.7 16.2 10.7 10.8 16.2 11.8 17.2 19 10z\"></path></svg>\\n          \\n    \\n    </a>\\n  </div>\\n\\n      </div>\\n  <div class=\"ibm-grid-col-sm-4-4 ani-reveal ani-fadeInUp\" data-wow-delay=\".7s\">\\n      </div>\\n\\n          \\n        </div>\\n      </div>\\n\\n      <div class=\"ibm-grid-col-sm-4-1 ibm-grid-col-md-8-0 ibm-grid-col-lg-16-2\"></div>\\n\\n      <div class=\"ibm-grid-col-sm-4-4 ibm-grid-col-md-8-4 ibm-grid-col-lg-16-8 ibm-grid-col-seamless ibm-duo-leadspace-large__media ibm-duo-leadspace-large__media--offset\">\\n\\n                  <div class=\"picturefill-background ibm-duo-leadspace-large__image ani-reveal ani-fadeIn\">\\n            <span data-src=\"//1.cms.s81c.com/sites/default/files/2022-05-27/Singapore-Group-2E-Mobile_2.jpg\"></span>\\n            <span data-src=\"//1.cms.s81c.com/sites/default/files/2022-05-27/Singapore-Group-2E-Mobile_2.jpg\" data-media=\"(min-width: 320px)\"></span>\\n            <span data-src=\"//1.cms.s81c.com/sites/default/files/2022-05-27/Singapore-Group-2E-Desktop_2.jpg\" data-media=\"(min-width: 672px)\"></span>\\n          </div>\\n        \\n        \\n              </div>\\n\\n    </div>\\n  </section>\\n\\n\\n\\n      \\n\\n\\n  \\n\\n<main role=\"main\" aria-labelledby=\"ibm-pagetitle-h1\">\\n  <div id=\"ibm-pcon\">\\n    <div id=\"ibm-content\">\\n      <div id=\"ibm-content-body\" class=\"ibm-padding-top-0\">\\n        <div id=\"ibm-content-main\">\\n          \\n                    \\n          <div class=\"node__content\">\\n                                                \\n\\n\\n\\n\\n\\n\\n  <section  role=\"article\" about=\"/ph-en/node/2598600\" id=\"2598600\" class=\"ibm-duo-band ibm-duo-module-1b ibm-duo-u--pt-4 ibm-duo-u--pb-4 ibm-background-white-core\" data-bg-lazy-load>\\n    <div class=\"ibm-grid-container ibm-duo-module-1b__container\">\\n      <div class=\"ibm-grid-col-sm-4-4 ibm-grid-col-md-8-4 ibm-grid-col-lg-16-4\">\\n        \\n\\n  <div class=\"ibm-duo-heading__headline ibm-grid-col-sm-4-4 ibm-grid-col-md-8-6 ibm-grid-col-lg-16-8 ibm-grid-col-seamless ibm-mb-3 ani-reveal ani-fadeInUp\">\\n    <h2 class=\"bx--type-productive-heading-02 ibm-textcolor-gray-90 ibm-pb-0 ibm-mb-0\">\\n          <span > Inside IBM</span>\\n\\n    </h2>\\n  </div>\\n\\n\\n      </div>\\n\\n      \\n                                \\n        \\n        <div class=\"ibm-grid-col-sm-4-4 ibm-grid-col-md-8-8 ibm-grid-col-lg-16-12 ibm-grid-col-seamless\">\\n          <div class=\"ibm-duo-carousel ibm-duo-carousel__1b ani-reveal ani-fadeInUp\" data-widget=\"setsameheight\" data-always=\"true\" data-items=\".ibm-duo-card__heading\">\\n\\n          <button type=\"button\" class=\"slick-arrow slick-prev\" data-ibm-cm-avoid=\"true\">\\n      <svg focusable=\"false\" preserveAspectRatio=\"xMidYMid meet\" xmlns=\"http://www.w3.org/2000/svg\" width=\"32\" height=\"32\" viewBox=\"0 0 32 32\" aria-hidden=\"true\" aria-label=\"Show previous content\"><path d=\"m10 16l10-10l1.4 1.4l-8.6 8.6l8.6 8.6l-1.4 1.4l-10-10z\" /></svg>\\n</button>\\n\\n          \\n                      <div class=\"ibm-grid-col-sm-4-4 ibm-grid-col-md-8-4 ibm-duo-carousel__item ibm-duo-carousel-1b__item\">\\n                  \\n\\n\\n\\n\\n\\n\\n\\n\\n\\n<div class=\"ibm-card ibm-duo-card ibm-duo-card--auto-height ibm-card--noborder ibm-mb-0\">\\n\\n  \\n        \\n\\n        \\n  \\n  \\n  \\n\\n\\n\\n    <a  target=\"_blank\" href=\"https://www.ibm.com/it-infrastructure/us-en/resources/hybrid-multicloud-infrastructure-strategy/?lnk=hpv18f1\" class=\"ibm-blocklink ibm-duo-card__link ibm-duo-u--link-icon--rtl ibm-background-cool-gray-10 ibm-duo-card--hover-light\">\\n    \\n          <div class=\"ibm-card__image ibm-duo-card__image ibm-duo-u--ratio--sixteen-nine\">\\n                  \\n\\n<img loading=\"lazy\" src=\"//1.cms.s81c.com/sites/default/files/2022-04-04/Original-20220316-26479-Forrester-Modernize-444x320_3.jpg\" alt=\"2022 Forrester Consulting study\"\\n        class=\"\"\\n  />\\n        \\n                                                      </div>\\n    \\n    <div class=\"ibm-card__content ibm-duo-card__content\">\\n      <div class=\"ibm-grid-container ibm-pb-3\">\\n                  <div class=\"ibm-grid-col-sm-4-4 ibm-grid-col-md-8-6 ibm-grid-col-lg-16-12 ibm-duo-card__heading\">\\n            <h3 class=\"bx--type-productive-heading-02 ibm-type-semibold ibm-mb-1 ibm-textcolor-gray-90 ibm-pb-0\">\\n                  <span > 2022 Forrester Consulting study</span>\\n\\n            </h3>\\n          </div>\\n        \\n                  <div class=\"ibm-grid-col-sm-4-4 ibm-grid-col-md-8-6 ibm-grid-col-lg-16-14 ibm-duo-card__desc\">\\n            <div class=\"ibm-card__subheading bx--type-body-short-02 ibm-mb-0 ibm-textcolor-gray-70 ibm-pb-0\">\\n                          <p>Only 21% of IT leaders surveyed are sure their current infrastructure can support growing workloads.</p>\\n\\n<p>\\xa0</p>\\n      \\n            </div>\\n          </div>\\n              </div>\\n    </div>\\n\\n          <div class=\"ibm-card__bottom ibm-duo-card__bottom\">\\n          <div class=\"ibm-grid-container\">\\n            <div class=\"ibm-grid-col-sm-4-4 ibm-grid-col-md-8-8 ibm-grid-col-lg-16-16\">\\n                                          \\n\\n        \\n  \\n  \\n  \\n\\n\\n\\n    <p class=\"ibm-duo-u--link-icon ibm-textcolor-blue-60\">\\n    <span class=\"ibm-textcolor-blue-60\">Find out what 500+ IT leaders are thinking</span>\\n    \\n    \\n        \\n\\n                      <svg focusable=\"false\" class=\"ibm-duo-u--link-icon--arrow-right\" preserveAspectRatio=\"xMidYMid meet\" xmlns=\"http://www.w3.org/2000/svg\" fill=\"currentColor\" aria-hidden=\"true\" aria-label=\"View this link\" width=\"20\" height=\"20\" viewBox=\"0 0 20 20\" slot=\"icon\"><path d=\"M11.8 2.8L10.8 3.8 16.2 9.3 1 9.3 1 10.7 16.2 10.7 10.8 16.2 11.8 17.2 19 10z\"></path></svg>\\n          \\n    \\n  </p>\\n\\n            </div>\\n          </div>\\n      </div>\\n    \\n  \\n  </a>\\n\\n    </div>\\n\\n\\n              </div>\\n                      <div class=\"ibm-grid-col-sm-4-4 ibm-grid-col-md-8-4 ibm-duo-carousel__item ibm-duo-carousel-1b__item\">\\n                  \\n\\n\\n\\n\\n\\n\\n\\n\\n\\n<div class=\"ibm-card ibm-duo-card ibm-duo-card--auto-height ibm-card--noborder ibm-mb-0\">\\n\\n  \\n        \\n\\n        \\n  \\n  \\n  \\n\\n\\n\\n    <a  target=\"_blank\" href=\"https://www.ibm.com/sg-en/analytics/data-fabric/?lnk=phhpv18f2\" class=\"ibm-blocklink ibm-duo-card__link ibm-duo-u--link-icon--rtl ibm-background-cool-gray-10 ibm-duo-card--hover-light\">\\n    \\n          <div class=\"ibm-card__image ibm-duo-card__image ibm-duo-u--ratio--sixteen-nine\">\\n                  \\n\\n<img loading=\"lazy\" src=\"//1.cms.s81c.com/sites/default/files/2022-04-26/2022031-ls-data-driven-mobile-720x360%20%283%29.png\" alt=\"Let’s create security that protects your data anywhere\"\\n        class=\"\"\\n  />\\n        \\n                                                      </div>\\n    \\n    <div class=\"ibm-card__content ibm-duo-card__content\">\\n      <div class=\"ibm-grid-container ibm-pb-3\">\\n                  <div class=\"ibm-grid-col-sm-4-4 ibm-grid-col-md-8-6 ibm-grid-col-lg-16-12 ibm-duo-card__heading\">\\n            <h3 class=\"bx--type-productive-heading-02 ibm-type-semibold ibm-mb-1 ibm-textcolor-gray-90 ibm-pb-0\">\\n                  <span > Let’s create data fabric, not data silos</span>\\n\\n            </h3>\\n          </div>\\n        \\n                  <div class=\"ibm-grid-col-sm-4-4 ibm-grid-col-md-8-6 ibm-grid-col-lg-16-14 ibm-duo-card__desc\">\\n            <div class=\"ibm-card__subheading bx--type-body-short-02 ibm-mb-0 ibm-textcolor-gray-70 ibm-pb-0\">\\n                          <p>Put your data to work for a competitive advantage</p>\\n      \\n            </div>\\n          </div>\\n              </div>\\n    </div>\\n\\n          <div class=\"ibm-card__bottom ibm-duo-card__bottom\">\\n          <div class=\"ibm-grid-container\">\\n            <div class=\"ibm-grid-col-sm-4-4 ibm-grid-col-md-8-8 ibm-grid-col-lg-16-16\">\\n                                          \\n\\n        \\n  \\n  \\n  \\n\\n\\n\\n    <p class=\"ibm-duo-u--link-icon ibm-textcolor-blue-60\">\\n    <span class=\"ibm-textcolor-blue-60\">Become a data-driven business</span>\\n    \\n    \\n        \\n\\n                      <svg focusable=\"false\" class=\"ibm-duo-u--link-icon--arrow-right\" preserveAspectRatio=\"xMidYMid meet\" xmlns=\"http://www.w3.org/2000/svg\" fill=\"currentColor\" aria-hidden=\"true\" aria-label=\"View this link\" width=\"20\" height=\"20\" viewBox=\"0 0 20 20\" slot=\"icon\"><path d=\"M11.8 2.8L10.8 3.8 16.2 9.3 1 9.3 1 10.7 16.2 10.7 10.8 16.2 11.8 17.2 19 10z\"></path></svg>\\n          \\n    \\n  </p>\\n\\n            </div>\\n          </div>\\n      </div>\\n    \\n  \\n  </a>\\n\\n    </div>\\n\\n\\n              </div>\\n                      <div class=\"ibm-grid-col-sm-4-4 ibm-grid-col-md-8-4 ibm-duo-carousel__item ibm-duo-carousel-1b__item\">\\n                  \\n\\n\\n\\n\\n\\n\\n\\n\\n\\n<div class=\"ibm-card ibm-duo-card ibm-duo-card--auto-height ibm-card--noborder ibm-mb-0\">\\n\\n  \\n        \\n\\n        \\n  \\n  \\n  \\n\\n\\n\\n    <a  target=\"_self\" href=\"https://www.ibm.com/sg-en/it-infrastructure/power/os/ibm-i?lnk=phhpv18f3\" class=\"ibm-blocklink ibm-duo-card__link ibm-duo-u--link-icon--rtl ibm-background-cool-gray-10 ibm-duo-card--hover-light\">\\n    \\n          <div class=\"ibm-card__image ibm-duo-card__image ibm-duo-u--ratio--sixteen-nine\">\\n                  \\n\\n<img loading=\"lazy\" src=\"//1.cms.s81c.com/sites/default/files/2022-05-06/20220503-f-ibm-i-444x320-26606_2.jpg\" alt=\"IBM i 7.5 for Power\"\\n        class=\"\"\\n  />\\n        \\n                                                      </div>\\n    \\n    <div class=\"ibm-card__content ibm-duo-card__content\">\\n      <div class=\"ibm-grid-container ibm-pb-3\">\\n                  <div class=\"ibm-grid-col-sm-4-4 ibm-grid-col-md-8-6 ibm-grid-col-lg-16-12 ibm-duo-card__heading\">\\n            <h3 class=\"bx--type-productive-heading-02 ibm-type-semibold ibm-mb-1 ibm-textcolor-gray-90 ibm-pb-0\">\\n                  <span > New IBM i 7.5 for Power</span>\\n\\n            </h3>\\n          </div>\\n        \\n                  <div class=\"ibm-grid-col-sm-4-4 ibm-grid-col-md-8-6 ibm-grid-col-lg-16-14 ibm-duo-card__desc\">\\n            <div class=\"ibm-card__subheading bx--type-body-short-02 ibm-mb-0 ibm-textcolor-gray-70 ibm-pb-0\">\\n                          <p>A subscription-based OS that features a novel modernisation engine and more security than ever</p>\\n      \\n            </div>\\n          </div>\\n              </div>\\n    </div>\\n\\n          <div class=\"ibm-card__bottom ibm-duo-card__bottom\">\\n          <div class=\"ibm-grid-container\">\\n            <div class=\"ibm-grid-col-sm-4-4 ibm-grid-col-md-8-8 ibm-grid-col-lg-16-16\">\\n                                          \\n\\n        \\n  \\n  \\n  \\n\\n\\n\\n    <p class=\"ibm-duo-u--link-icon ibm-textcolor-blue-60\">\\n    <span class=\"ibm-textcolor-blue-60\">Discover how it helps streamline app development and modernisation</span>\\n    \\n    \\n        \\n\\n                      <svg focusable=\"false\" class=\"ibm-duo-u--link-icon--arrow-right\" preserveAspectRatio=\"xMidYMid meet\" xmlns=\"http://www.w3.org/2000/svg\" fill=\"currentColor\" aria-hidden=\"true\" aria-label=\"View this link\" width=\"20\" height=\"20\" viewBox=\"0 0 20 20\" slot=\"icon\"><path d=\"M11.8 2.8L10.8 3.8 16.2 9.3 1 9.3 1 10.7 16.2 10.7 10.8 16.2 11.8 17.2 19 10z\"></path></svg>\\n          \\n    \\n  </p>\\n\\n            </div>\\n          </div>\\n      </div>\\n    \\n  \\n  </a>\\n\\n    </div>\\n\\n\\n              </div>\\n                      <div class=\"ibm-grid-col-sm-4-4 ibm-grid-col-md-8-4 ibm-duo-carousel__item ibm-duo-carousel-1b__item\">\\n                  \\n\\n\\n\\n\\n\\n\\n\\n\\n\\n<div class=\"ibm-card ibm-duo-card ibm-duo-card--auto-height ibm-card--noborder ibm-mb-0\">\\n\\n  \\n        \\n\\n        \\n  \\n  \\n  \\n\\n\\n\\n    <a  target=\"_blank\" href=\"https://www.ibm.com/sg-en/cloud/aiops/?lnk=phhpv18f4\" class=\"ibm-blocklink ibm-duo-card__link ibm-duo-u--link-icon--rtl ibm-background-cool-gray-10 ibm-duo-card--hover-light\">\\n    \\n          <div class=\"ibm-card__image ibm-duo-card__image ibm-duo-u--ratio--sixteen-nine\">\\n                  \\n\\n<img loading=\"lazy\" src=\"//1.cms.s81c.com/sites/default/files/2022-02-16/automate-five-levers-444x254_4.jpg\" alt=\"automation and AIOPS with IBM\"\\n        class=\"\"\\n  />\\n        \\n                                                      </div>\\n    \\n    <div class=\"ibm-card__content ibm-duo-card__content\">\\n      <div class=\"ibm-grid-container ibm-pb-3\">\\n                  <div class=\"ibm-grid-col-sm-4-4 ibm-grid-col-md-8-6 ibm-grid-col-lg-16-12 ibm-duo-card__heading\">\\n            <h3 class=\"bx--type-productive-heading-02 ibm-type-semibold ibm-mb-1 ibm-textcolor-gray-90 ibm-pb-0\">\\n                  <span > Put your apps on autopilot</span>\\n\\n            </h3>\\n          </div>\\n        \\n                  <div class=\"ibm-grid-col-sm-4-4 ibm-grid-col-md-8-6 ibm-grid-col-lg-16-14 ibm-duo-card__desc\">\\n            <div class=\"ibm-card__subheading bx--type-body-short-02 ibm-mb-0 ibm-textcolor-gray-70 ibm-pb-0\">\\n                          <p>Companies that invest in AIOps and automation can cut costs by 50%</p>\\n      \\n            </div>\\n          </div>\\n              </div>\\n    </div>\\n\\n          <div class=\"ibm-card__bottom ibm-duo-card__bottom\">\\n          <div class=\"ibm-grid-container\">\\n            <div class=\"ibm-grid-col-sm-4-4 ibm-grid-col-md-8-8 ibm-grid-col-lg-16-16\">\\n                                          \\n\\n        \\n  \\n  \\n  \\n\\n\\n\\n    <p class=\"ibm-duo-u--link-icon ibm-textcolor-blue-60\">\\n    <span class=\"ibm-textcolor-blue-60\">See how you can accelerate your digital transformation</span>\\n    \\n    \\n        \\n\\n                      <svg focusable=\"false\" class=\"ibm-duo-u--link-icon--arrow-right\" preserveAspectRatio=\"xMidYMid meet\" xmlns=\"http://www.w3.org/2000/svg\" fill=\"currentColor\" aria-hidden=\"true\" aria-label=\"View this link\" width=\"20\" height=\"20\" viewBox=\"0 0 20 20\" slot=\"icon\"><path d=\"M11.8 2.8L10.8 3.8 16.2 9.3 1 9.3 1 10.7 16.2 10.7 10.8 16.2 11.8 17.2 19 10z\"></path></svg>\\n          \\n    \\n  </p>\\n\\n            </div>\\n          </div>\\n      </div>\\n    \\n  \\n  </a>\\n\\n    </div>\\n\\n\\n              </div>\\n                      <div class=\"ibm-grid-col-sm-4-4 ibm-grid-col-md-8-4 ibm-duo-carousel__item ibm-duo-carousel-1b__item\">\\n                  \\n\\n\\n\\n\\n\\n\\n\\n\\n\\n<div class=\"ibm-card ibm-duo-card ibm-duo-card--auto-height ibm-card--noborder ibm-mb-0\">\\n\\n  \\n        \\n\\n        \\n  \\n  \\n  \\n\\n\\n\\n    <a  target=\"_blank\" href=\"https://www.ibm.com/consulting/sg-en/?lnk=phhpv18f5\" class=\"ibm-blocklink ibm-duo-card__link ibm-duo-u--link-icon--rtl ibm-background-cool-gray-10 ibm-duo-card--hover-light\">\\n    \\n          <div class=\"ibm-card__image ibm-duo-card__image ibm-duo-u--ratio--sixteen-nine\">\\n                  \\n\\n<img loading=\"lazy\" src=\"//1.cms.s81c.com/sites/default/files/2022-04-26/consulting-five-levers-444x254.jpg\" alt=\"IBM Consulting\"\\n        class=\"\"\\n  />\\n        \\n                                                      </div>\\n    \\n    <div class=\"ibm-card__content ibm-duo-card__content\">\\n      <div class=\"ibm-grid-container ibm-pb-3\">\\n                  <div class=\"ibm-grid-col-sm-4-4 ibm-grid-col-md-8-6 ibm-grid-col-lg-16-12 ibm-duo-card__heading\">\\n            <h3 class=\"bx--type-productive-heading-02 ibm-type-semibold ibm-mb-1 ibm-textcolor-gray-90 ibm-pb-0\">\\n                  <span > Move fast and far with IBM Consulting</span>\\n\\n            </h3>\\n          </div>\\n        \\n                  <div class=\"ibm-grid-col-sm-4-4 ibm-grid-col-md-8-6 ibm-grid-col-lg-16-14 ibm-duo-card__desc\">\\n            <div class=\"ibm-card__subheading bx--type-body-short-02 ibm-mb-0 ibm-textcolor-gray-70 ibm-pb-0\">\\n                          <p>Together, we can turn ideas into action better than we ever could alone</p>\\n      \\n            </div>\\n          </div>\\n              </div>\\n    </div>\\n\\n          <div class=\"ibm-card__bottom ibm-duo-card__bottom\">\\n          <div class=\"ibm-grid-container\">\\n            <div class=\"ibm-grid-col-sm-4-4 ibm-grid-col-md-8-8 ibm-grid-col-lg-16-16\">\\n                                          \\n\\n        \\n  \\n  \\n  \\n\\n\\n\\n    <p class=\"ibm-duo-u--link-icon ibm-textcolor-blue-60\">\\n    <span class=\"ibm-textcolor-blue-60\">Navigate the new rules of modern business with a partner you trust</span>\\n    \\n    \\n        \\n\\n                      <svg focusable=\"false\" class=\"ibm-duo-u--link-icon--arrow-right\" preserveAspectRatio=\"xMidYMid meet\" xmlns=\"http://www.w3.org/2000/svg\" fill=\"currentColor\" aria-hidden=\"true\" aria-label=\"View this link\" width=\"20\" height=\"20\" viewBox=\"0 0 20 20\" slot=\"icon\"><path d=\"M11.8 2.8L10.8 3.8 16.2 9.3 1 9.3 1 10.7 16.2 10.7 10.8 16.2 11.8 17.2 19 10z\"></path></svg>\\n          \\n    \\n  </p>\\n\\n            </div>\\n          </div>\\n      </div>\\n    \\n  \\n  </a>\\n\\n    </div>\\n\\n\\n              </div>\\n                      <div class=\"ibm-grid-col-sm-4-4 ibm-grid-col-md-8-4 ibm-duo-carousel__item ibm-duo-carousel-1b__item\">\\n                  \\n\\n\\n\\n\\n\\n\\n\\n\\n\\n<div class=\"ibm-card ibm-duo-card ibm-duo-card--auto-height ibm-card--noborder ibm-mb-0\">\\n\\n  \\n        \\n\\n        \\n  \\n  \\n  \\n\\n\\n\\n    <a  target=\"_blank\" href=\"https://www.ibm.com/sg-en/cloud/campaign/cloud-simplicity?lnk=phhpv18f6\" class=\"ibm-blocklink ibm-duo-card__link ibm-duo-u--link-icon--rtl ibm-background-cool-gray-10 ibm-duo-card--hover-light\">\\n    \\n          <div class=\"ibm-card__image ibm-duo-card__image ibm-duo-u--ratio--sixteen-nine\">\\n                  \\n\\n<img loading=\"lazy\" src=\"//1.cms.s81c.com/sites/default/files/2022-02-16/cloud-five-levers-444x254_4.jpg\" alt=\"Simplify your cloud infrastructure\"\\n        class=\"\"\\n  />\\n        \\n                                                      </div>\\n    \\n    <div class=\"ibm-card__content ibm-duo-card__content\">\\n      <div class=\"ibm-grid-container ibm-pb-3\">\\n                  <div class=\"ibm-grid-col-sm-4-4 ibm-grid-col-md-8-6 ibm-grid-col-lg-16-12 ibm-duo-card__heading\">\\n            <h3 class=\"bx--type-productive-heading-02 ibm-type-semibold ibm-mb-1 ibm-textcolor-gray-90 ibm-pb-0\">\\n                  <span > Simplify your infrastructure</span>\\n\\n            </h3>\\n          </div>\\n        \\n                  <div class=\"ibm-grid-col-sm-4-4 ibm-grid-col-md-8-6 ibm-grid-col-lg-16-14 ibm-duo-card__desc\">\\n            <div class=\"ibm-card__subheading bx--type-body-short-02 ibm-mb-0 ibm-textcolor-gray-70 ibm-pb-0\">\\n                          <p>Most decision makers think IT is more complex today than two years ago</p>\\n      \\n            </div>\\n          </div>\\n              </div>\\n    </div>\\n\\n          <div class=\"ibm-card__bottom ibm-duo-card__bottom\">\\n          <div class=\"ibm-grid-container\">\\n            <div class=\"ibm-grid-col-sm-4-4 ibm-grid-col-md-8-8 ibm-grid-col-lg-16-16\">\\n                                          \\n\\n        \\n  \\n  \\n  \\n\\n\\n\\n    <p class=\"ibm-duo-u--link-icon ibm-textcolor-blue-60\">\\n    <span class=\"ibm-textcolor-blue-60\">Learn how you can break down silos and optimize efficiencies</span>\\n    \\n    \\n        \\n\\n                      <svg focusable=\"false\" class=\"ibm-duo-u--link-icon--arrow-right\" preserveAspectRatio=\"xMidYMid meet\" xmlns=\"http://www.w3.org/2000/svg\" fill=\"currentColor\" aria-hidden=\"true\" aria-label=\"View this link\" width=\"20\" height=\"20\" viewBox=\"0 0 20 20\" slot=\"icon\"><path d=\"M11.8 2.8L10.8 3.8 16.2 9.3 1 9.3 1 10.7 16.2 10.7 10.8 16.2 11.8 17.2 19 10z\"></path></svg>\\n          \\n    \\n  </p>\\n\\n            </div>\\n          </div>\\n      </div>\\n    \\n  \\n  </a>\\n\\n    </div>\\n\\n\\n              </div>\\n          \\n            <span class=\"ibm-duo-carousel__counter ibm-duo-carousel__counter--6 bx--type-body-long-01 ibm-mb-1 ibm-textcolor-gray-90\"></span>\\n\\n            <button type=\"button\" class=\"slick-arrow slick-next\" data-ibm-cm-avoid=\"true\">\\n      <svg focusable=\"false\" preserveAspectRatio=\"xMidYMid meet\" xmlns=\"http://www.w3.org/2000/svg\" width=\"32\" height=\"32\" viewBox=\"0 0 32 32\" aria-hidden=\"true\" aria-label=\"Show next content\"><polygon points=\"22,16 12,26 10.6,24.6 19.2,16 10.6,7.4 12,6\"></polygon></svg>\\n</button>\\n          </div>\\n        </div>\\n      \\n    </div>\\n  </section>\\n\\n              \\n\\n\\n\\n\\n\\n\\n  <section  role=\"article\" lang=\"en-my\" about=\"/my-en/node/2598712\" id=\"2598712\" class=\"ibm-duo-band ibm-duo-module-1b ibm-duo-u--pt-4 ibm-duo-u--pb-4 ibm-background-cool-gray-10\" data-bg-lazy-load>\\n    <div class=\"ibm-grid-container ibm-duo-module-1b__container\">\\n      <div class=\"ibm-grid-col-sm-4-4 ibm-grid-col-md-8-4 ibm-grid-col-lg-16-4\">\\n        \\n\\n  <div class=\"ibm-duo-heading__headline ibm-grid-col-sm-4-4 ibm-grid-col-md-8-6 ibm-grid-col-lg-16-8 ibm-grid-col-seamless ibm-mb-3 ani-reveal ani-fadeInUp\">\\n    <h2 class=\"bx--type-productive-heading-02 ibm-textcolor-gray-90 ibm-pb-0 ibm-mb-0\">\\n          <span > Explore product trials and offers</span>\\n\\n    </h2>\\n  </div>\\n\\n\\n  <div class=\"ibm-duo-heading__cta ibm-grid-col-sm-4-4 ibm-grid-col-md-8-8 ibm-grid-col-lg-16-15 ibm-grid-col-seamless ibm-mt-3 ibm-mb-3 ani-reveal ani-fadeInUp\">\\n          \\n\\n        \\n  \\n  \\n  \\n\\n\\n\\n  \\n  \\n  <p class=\\'ibm-mb-0 ibm-duo-u--pr-2 ibm-pb-1\\'>\\n    <a  target=\"_self\" href=\"/ph-en/products/offers-and-discounts?lnk=hpv18t5\" class=\"ibm-duo-u--link-icon ibm-textcolor-blue-60 ibm-duo-u--link-icon--rtl\">\\n      <span>See current deals</span>\\n      \\n    \\n        \\n\\n                      <svg focusable=\"false\" class=\"ibm-duo-u--link-icon--arrow-right\" preserveAspectRatio=\"xMidYMid meet\" xmlns=\"http://www.w3.org/2000/svg\" fill=\"currentColor\" aria-hidden=\"true\" aria-label=\"View this link\" width=\"20\" height=\"20\" viewBox=\"0 0 20 20\" slot=\"icon\"><path d=\"M11.8 2.8L10.8 3.8 16.2 9.3 1 9.3 1 10.7 16.2 10.7 10.8 16.2 11.8 17.2 19 10z\"></path></svg>\\n          \\n    \\n    </a>\\n  </p>\\n\\n\\n      </div>\\n      </div>\\n\\n      \\n                                \\n        \\n        <div class=\"ibm-grid-col-sm-4-4 ibm-grid-col-md-8-8 ibm-grid-col-lg-16-12 ibm-grid-col-seamless\">\\n          <div class=\"ibm-duo-carousel ibm-duo-carousel__1b ani-reveal ani-fadeInUp\" data-widget=\"setsameheight\" data-always=\"true\" data-items=\".ibm-duo-card__heading\">\\n\\n          <button type=\"button\" class=\"slick-arrow slick-prev\" data-ibm-cm-avoid=\"true\">\\n      <svg focusable=\"false\" preserveAspectRatio=\"xMidYMid meet\" xmlns=\"http://www.w3.org/2000/svg\" width=\"32\" height=\"32\" viewBox=\"0 0 32 32\" aria-hidden=\"true\" aria-label=\"Show previous content\"><path d=\"m10 16l10-10l1.4 1.4l-8.6 8.6l8.6 8.6l-1.4 1.4l-10-10z\" /></svg>\\n</button>\\n\\n          \\n                      <div class=\"ibm-grid-col-sm-4-4 ibm-grid-col-md-8-4 ibm-duo-carousel__item ibm-duo-carousel-1b__item\">\\n                  \\n\\n\\n\\n\\n\\n\\n\\n\\n\\n<div class=\"ibm-card ibm-duo-card ibm-duo-card--auto-height ibm-card--noborder ibm-mb-0\">\\n\\n  \\n        \\n\\n        \\n  \\n  \\n  \\n\\n\\n\\n    <a  target=\"_self\" href=\"/ph-en/cloud/free?lnk=STW_MY_HP_T1_BLK&amp;psrc=NONE&amp;pexp=DEF&amp;lnk2=trial_Cloud\" class=\"ibm-blocklink ibm-duo-card__link ibm-duo-u--link-icon--rtl ibm-background-white-core ibm-duo-card--hover-light\">\\n    \\n          <div class=\"ibm-card__image ibm-duo-card__image ibm-duo-u--ratio--sixteen-nine\">\\n                  \\n\\n<img loading=\"lazy\" src=\"//1.cms.s81c.com/sites/default/files/2021-04-07/ibm-cloud-trial.png\" alt=\"screenshot of the IBM Cloud dashboard\"\\n        class=\"\"\\n  />\\n        \\n                                                      </div>\\n    \\n    <div class=\"ibm-card__content ibm-duo-card__content\">\\n      <div class=\"ibm-grid-container ibm-pb-3\">\\n                  <div class=\"ibm-grid-col-sm-4-4 ibm-grid-col-md-8-6 ibm-grid-col-lg-16-12 ibm-duo-card__heading\">\\n            <h3 class=\"bx--type-productive-heading-02 ibm-type-semibold ibm-mb-1 ibm-textcolor-gray-90 ibm-pb-0\">\\n                  <span > IBM Cloud</span>\\n\\n            </h3>\\n          </div>\\n        \\n                  <div class=\"ibm-grid-col-sm-4-4 ibm-grid-col-md-8-6 ibm-grid-col-lg-16-14 ibm-duo-card__desc\">\\n            <div class=\"ibm-card__subheading bx--type-body-short-02 ibm-mb-0 ibm-textcolor-gray-70 ibm-pb-0\">\\n                          <p>Capture the true value of cloud and AI for your business<br /><br />\\nGet started with a free Lite plan</p>\\n      \\n            </div>\\n          </div>\\n              </div>\\n    </div>\\n\\n          <div class=\"ibm-card__bottom ibm-duo-card__bottom\">\\n          <div class=\"ibm-grid-container\">\\n            <div class=\"ibm-grid-col-sm-4-4 ibm-grid-col-md-8-8 ibm-grid-col-lg-16-16\">\\n                                          \\n\\n        \\n  \\n  \\n  \\n\\n\\n\\n    <p class=\"ibm-duo-u--link-icon ibm-textcolor-blue-60\">\\n    <span class=\"ibm-textcolor-blue-60\"></span>\\n    \\n    \\n        \\n\\n                      <svg focusable=\"false\" class=\"ibm-duo-u--link-icon--arrow-right\" preserveAspectRatio=\"xMidYMid meet\" xmlns=\"http://www.w3.org/2000/svg\" fill=\"currentColor\" aria-hidden=\"true\" aria-label=\"View this link\" width=\"20\" height=\"20\" viewBox=\"0 0 20 20\" slot=\"icon\"><path d=\"M11.8 2.8L10.8 3.8 16.2 9.3 1 9.3 1 10.7 16.2 10.7 10.8 16.2 11.8 17.2 19 10z\"></path></svg>\\n          \\n    \\n  </p>\\n\\n            </div>\\n          </div>\\n      </div>\\n    \\n  \\n  </a>\\n\\n    </div>\\n\\n\\n              </div>\\n                      <div class=\"ibm-grid-col-sm-4-4 ibm-grid-col-md-8-4 ibm-duo-carousel__item ibm-duo-carousel-1b__item\">\\n                  \\n\\n\\n\\n\\n\\n\\n\\n\\n\\n<div class=\"ibm-card ibm-duo-card ibm-duo-card--auto-height ibm-card--noborder ibm-mb-0\">\\n\\n  \\n        \\n\\n        \\n  \\n  \\n  \\n\\n\\n\\n    <a  target=\"_self\" href=\"/ph-en/products/cloud-pak-for-data?lnk=STW_MY_HP_T2_BLK&amp;psrc=NONE&amp;pexp=DEF&amp;lnk2=trial_CloudPakData\" class=\"ibm-blocklink ibm-duo-card__link ibm-duo-u--link-icon--rtl ibm-background-white-core ibm-duo-card--hover-light\">\\n    \\n          <div class=\"ibm-card__image ibm-duo-card__image ibm-duo-u--ratio--sixteen-nine\">\\n                  \\n\\n<img loading=\"lazy\" src=\"//1.cms.s81c.com/sites/default/files/2021-04-07/cloud-pak-for-data-trial.png\" alt=\"Cloud pak for data screenshot\"\\n        class=\"\"\\n  />\\n        \\n                                                      </div>\\n    \\n    <div class=\"ibm-card__content ibm-duo-card__content\">\\n      <div class=\"ibm-grid-container ibm-pb-3\">\\n                  <div class=\"ibm-grid-col-sm-4-4 ibm-grid-col-md-8-6 ibm-grid-col-lg-16-12 ibm-duo-card__heading\">\\n            <h3 class=\"bx--type-productive-heading-02 ibm-type-semibold ibm-mb-1 ibm-textcolor-gray-90 ibm-pb-0\">\\n                  <span > IBM Cloud Pak for Data</span>\\n\\n            </h3>\\n          </div>\\n        \\n                  <div class=\"ibm-grid-col-sm-4-4 ibm-grid-col-md-8-6 ibm-grid-col-lg-16-14 ibm-duo-card__desc\">\\n            <div class=\"ibm-card__subheading bx--type-body-short-02 ibm-mb-0 ibm-textcolor-gray-70 ibm-pb-0\">\\n                          <p>Accelerate your journey to AI with a cloud‑native data platform<br /><br />\\nTry it free</p>\\n      \\n            </div>\\n          </div>\\n              </div>\\n    </div>\\n\\n          <div class=\"ibm-card__bottom ibm-duo-card__bottom\">\\n          <div class=\"ibm-grid-container\">\\n            <div class=\"ibm-grid-col-sm-4-4 ibm-grid-col-md-8-8 ibm-grid-col-lg-16-16\">\\n                                          \\n\\n        \\n  \\n  \\n  \\n\\n\\n\\n    <p class=\"ibm-duo-u--link-icon ibm-textcolor-blue-60\">\\n    <span class=\"ibm-textcolor-blue-60\"></span>\\n    \\n    \\n        \\n\\n                      <svg focusable=\"false\" class=\"ibm-duo-u--link-icon--arrow-right\" preserveAspectRatio=\"xMidYMid meet\" xmlns=\"http://www.w3.org/2000/svg\" fill=\"currentColor\" aria-hidden=\"true\" aria-label=\"View this link\" width=\"20\" height=\"20\" viewBox=\"0 0 20 20\" slot=\"icon\"><path d=\"M11.8 2.8L10.8 3.8 16.2 9.3 1 9.3 1 10.7 16.2 10.7 10.8 16.2 11.8 17.2 19 10z\"></path></svg>\\n          \\n    \\n  </p>\\n\\n            </div>\\n          </div>\\n      </div>\\n    \\n  \\n  </a>\\n\\n    </div>\\n\\n\\n              </div>\\n                      <div class=\"ibm-grid-col-sm-4-4 ibm-grid-col-md-8-4 ibm-duo-carousel__item ibm-duo-carousel-1b__item\">\\n                  \\n\\n\\n\\n\\n\\n\\n\\n\\n\\n<div class=\"ibm-card ibm-duo-card ibm-duo-card--auto-height ibm-card--noborder ibm-mb-0\">\\n\\n  \\n        \\n\\n        \\n  \\n  \\n  \\n\\n\\n\\n    <a  target=\"_self\" href=\"/ph-en/cloud/watson-assistant?lnk=STW_MY_HP_T3_BLK&amp;psrc=NONE&amp;pexp=DEF&amp;lnk2=trial_WatAssist\" class=\"ibm-blocklink ibm-duo-card__link ibm-duo-u--link-icon--rtl ibm-background-white-core ibm-duo-card--hover-light\">\\n    \\n          <div class=\"ibm-card__image ibm-duo-card__image ibm-duo-u--ratio--sixteen-nine\">\\n                  \\n\\n<img loading=\"lazy\" src=\"//1.cms.s81c.com/sites/default/files/2021-04-07/watson-assistant-trial_0.png\" alt=\"Screenshot of Watson Assistant software\"\\n        class=\"\"\\n  />\\n        \\n                                                      </div>\\n    \\n    <div class=\"ibm-card__content ibm-duo-card__content\">\\n      <div class=\"ibm-grid-container ibm-pb-3\">\\n                  <div class=\"ibm-grid-col-sm-4-4 ibm-grid-col-md-8-6 ibm-grid-col-lg-16-12 ibm-duo-card__heading\">\\n            <h3 class=\"bx--type-productive-heading-02 ibm-type-semibold ibm-mb-1 ibm-textcolor-gray-90 ibm-pb-0\">\\n                  <span > IBM Watson Assistant</span>\\n\\n            </h3>\\n          </div>\\n        \\n                  <div class=\"ibm-grid-col-sm-4-4 ibm-grid-col-md-8-6 ibm-grid-col-lg-16-14 ibm-duo-card__desc\">\\n            <div class=\"ibm-card__subheading bx--type-body-short-02 ibm-mb-0 ibm-textcolor-gray-70 ibm-pb-0\">\\n                          <p>Help your customers on any channel with AI-powered chat and voice<br /><br />\\nGet started free</p>\\n      \\n            </div>\\n          </div>\\n              </div>\\n    </div>\\n\\n          <div class=\"ibm-card__bottom ibm-duo-card__bottom\">\\n          <div class=\"ibm-grid-container\">\\n            <div class=\"ibm-grid-col-sm-4-4 ibm-grid-col-md-8-8 ibm-grid-col-lg-16-16\">\\n                                          \\n\\n        \\n  \\n  \\n  \\n\\n\\n\\n    <p class=\"ibm-duo-u--link-icon ibm-textcolor-blue-60\">\\n    <span class=\"ibm-textcolor-blue-60\"></span>\\n    \\n    \\n        \\n\\n                      <svg focusable=\"false\" class=\"ibm-duo-u--link-icon--arrow-right\" preserveAspectRatio=\"xMidYMid meet\" xmlns=\"http://www.w3.org/2000/svg\" fill=\"currentColor\" aria-hidden=\"true\" aria-label=\"View this link\" width=\"20\" height=\"20\" viewBox=\"0 0 20 20\" slot=\"icon\"><path d=\"M11.8 2.8L10.8 3.8 16.2 9.3 1 9.3 1 10.7 16.2 10.7 10.8 16.2 11.8 17.2 19 10z\"></path></svg>\\n          \\n    \\n  </p>\\n\\n            </div>\\n          </div>\\n      </div>\\n    \\n  \\n  </a>\\n\\n    </div>\\n\\n\\n              </div>\\n                      <div class=\"ibm-grid-col-sm-4-4 ibm-grid-col-md-8-4 ibm-duo-carousel__item ibm-duo-carousel-1b__item\">\\n                  \\n\\n\\n\\n\\n\\n\\n\\n\\n\\n<div class=\"ibm-card ibm-duo-card ibm-duo-card--auto-height ibm-card--noborder ibm-mb-0\">\\n\\n  \\n        \\n\\n        \\n  \\n  \\n  \\n\\n\\n\\n    <a  target=\"_self\" href=\"/security/identity-access-management/cloud-identity?lnk=STW_MY_HP_T4_BLK&amp;psrc=NONE&amp;pexp=DEF&amp;lnk2=trial_IdentAccMgmtSvc\" class=\"ibm-blocklink ibm-duo-card__link ibm-duo-u--link-icon--rtl ibm-background-white-core ibm-duo-card--hover-light\">\\n    \\n          <div class=\"ibm-card__image ibm-duo-card__image ibm-duo-u--ratio--sixteen-nine\">\\n                  \\n\\n<img loading=\"lazy\" src=\"//1.cms.s81c.com/sites/default/files/2021-05-27/security-verify-trial%283%29_0.png\" alt=\"screenshot of security verify software\"\\n        class=\"\"\\n  />\\n        \\n                                                      </div>\\n    \\n    <div class=\"ibm-card__content ibm-duo-card__content\">\\n      <div class=\"ibm-grid-container ibm-pb-3\">\\n                  <div class=\"ibm-grid-col-sm-4-4 ibm-grid-col-md-8-6 ibm-grid-col-lg-16-12 ibm-duo-card__heading\">\\n            <h3 class=\"bx--type-productive-heading-02 ibm-type-semibold ibm-mb-1 ibm-textcolor-gray-90 ibm-pb-0\">\\n                  <span > IBM Security Verify</span>\\n\\n            </h3>\\n          </div>\\n        \\n                  <div class=\"ibm-grid-col-sm-4-4 ibm-grid-col-md-8-6 ibm-grid-col-lg-16-14 ibm-duo-card__desc\">\\n            <div class=\"ibm-card__subheading bx--type-body-short-02 ibm-mb-0 ibm-textcolor-gray-70 ibm-pb-0\">\\n                          <p>Manage hybrid application access with an IDaaS solution<br /><br />\\nGet no-charge access for 90 days</p>\\n      \\n            </div>\\n          </div>\\n              </div>\\n    </div>\\n\\n          <div class=\"ibm-card__bottom ibm-duo-card__bottom\">\\n          <div class=\"ibm-grid-container\">\\n            <div class=\"ibm-grid-col-sm-4-4 ibm-grid-col-md-8-8 ibm-grid-col-lg-16-16\">\\n                                          \\n\\n        \\n  \\n  \\n  \\n\\n\\n\\n    <p class=\"ibm-duo-u--link-icon ibm-textcolor-blue-60\">\\n    <span class=\"ibm-textcolor-blue-60\"></span>\\n    \\n    \\n        \\n\\n                      <svg focusable=\"false\" class=\"ibm-duo-u--link-icon--arrow-right\" preserveAspectRatio=\"xMidYMid meet\" xmlns=\"http://www.w3.org/2000/svg\" fill=\"currentColor\" aria-hidden=\"true\" aria-label=\"View this link\" width=\"20\" height=\"20\" viewBox=\"0 0 20 20\" slot=\"icon\"><path d=\"M11.8 2.8L10.8 3.8 16.2 9.3 1 9.3 1 10.7 16.2 10.7 10.8 16.2 11.8 17.2 19 10z\"></path></svg>\\n          \\n    \\n  </p>\\n\\n            </div>\\n          </div>\\n      </div>\\n    \\n  \\n  </a>\\n\\n    </div>\\n\\n\\n              </div>\\n                      <div class=\"ibm-grid-col-sm-4-4 ibm-grid-col-md-8-4 ibm-duo-carousel__item ibm-duo-carousel-1b__item\">\\n                  \\n\\n\\n\\n\\n\\n\\n\\n\\n\\n<div class=\"ibm-card ibm-duo-card ibm-duo-card--auto-height ibm-card--noborder ibm-mb-0\">\\n\\n  \\n        \\n\\n        \\n  \\n  \\n  \\n\\n\\n\\n    <a  target=\"_self\" href=\"/products/digital-learning-subscription/pricing?lnk=STW_MY_HP_SWT5_BLK&amp;psrc=NONE&amp;pexp=DEF&amp;lnk2=trial_DigLearning\" class=\"ibm-blocklink ibm-duo-card__link ibm-duo-u--link-icon--rtl ibm-background-white-core ibm-duo-card--hover-light\">\\n    \\n          <div class=\"ibm-card__image ibm-duo-card__image ibm-duo-u--ratio--sixteen-nine\">\\n                  \\n\\n<img loading=\"lazy\" src=\"//1.cms.s81c.com/sites/default/files/2021-04-29/ibm-cloud-learning-444x254.png\" alt=\"Screenshot of IBM Digital learning\"\\n        class=\"\"\\n  />\\n        \\n                                                      </div>\\n    \\n    <div class=\"ibm-card__content ibm-duo-card__content\">\\n      <div class=\"ibm-grid-container ibm-pb-3\">\\n                  <div class=\"ibm-grid-col-sm-4-4 ibm-grid-col-md-8-6 ibm-grid-col-lg-16-12 ibm-duo-card__heading\">\\n            <h3 class=\"bx--type-productive-heading-02 ibm-type-semibold ibm-mb-1 ibm-textcolor-gray-90 ibm-pb-0\">\\n                  <span > IBM Digital learning subscription </span>\\n\\n            </h3>\\n          </div>\\n        \\n                  <div class=\"ibm-grid-col-sm-4-4 ibm-grid-col-md-8-6 ibm-grid-col-lg-16-14 ibm-duo-card__desc\">\\n            <div class=\"ibm-card__subheading bx--type-body-short-02 ibm-mb-0 ibm-textcolor-gray-70 ibm-pb-0\">\\n                          <p>Access to IBM digital learning content for twelve months all at one low price, start learning and saving now!</p>\\n\\n<p>Get 10% off all Subscriptions</p>\\n      \\n            </div>\\n          </div>\\n              </div>\\n    </div>\\n\\n          <div class=\"ibm-card__bottom ibm-duo-card__bottom\">\\n          <div class=\"ibm-grid-container\">\\n            <div class=\"ibm-grid-col-sm-4-4 ibm-grid-col-md-8-8 ibm-grid-col-lg-16-16\">\\n                                          \\n\\n        \\n  \\n  \\n  \\n\\n\\n\\n    <p class=\"ibm-duo-u--link-icon ibm-textcolor-blue-60\">\\n    <span class=\"ibm-textcolor-blue-60\"></span>\\n    \\n    \\n        \\n\\n                      <svg focusable=\"false\" class=\"ibm-duo-u--link-icon--arrow-right\" preserveAspectRatio=\"xMidYMid meet\" xmlns=\"http://www.w3.org/2000/svg\" fill=\"currentColor\" aria-hidden=\"true\" aria-label=\"View this link\" width=\"20\" height=\"20\" viewBox=\"0 0 20 20\" slot=\"icon\"><path d=\"M11.8 2.8L10.8 3.8 16.2 9.3 1 9.3 1 10.7 16.2 10.7 10.8 16.2 11.8 17.2 19 10z\"></path></svg>\\n          \\n    \\n  </p>\\n\\n            </div>\\n          </div>\\n      </div>\\n    \\n  \\n  </a>\\n\\n    </div>\\n\\n\\n              </div>\\n          \\n            <span class=\"ibm-duo-carousel__counter ibm-duo-carousel__counter--5 bx--type-body-long-01 ibm-mb-1 ibm-textcolor-gray-90\"></span>\\n\\n            <button type=\"button\" class=\"slick-arrow slick-next\" data-ibm-cm-avoid=\"true\">\\n      <svg focusable=\"false\" preserveAspectRatio=\"xMidYMid meet\" xmlns=\"http://www.w3.org/2000/svg\" width=\"32\" height=\"32\" viewBox=\"0 0 32 32\" aria-hidden=\"true\" aria-label=\"Show next content\"><polygon points=\"22,16 12,26 10.6,24.6 19.2,16 10.6,7.4 12,6\"></polygon></svg>\\n</button>\\n          </div>\\n        </div>\\n      \\n    </div>\\n  </section>\\n\\n              \\n\\n  \\n\\n\\n\\n\\n\\n  <section  role=\"article\" about=\"/ph-en/node/2640888\" id=\"2640888\" class=\"ibm-duo-band ibm-duo-module-12a ibm-background-cool-gray-10\" data-bg-lazy-load>\\n    \\n                      \\n\\n  \\n\\n\\n\\n\\n\\n<div class=\"ibm-grid-container ibm-duo-u--pt-4 ibm-duo-u--pb-4 \">\\n  <div class=\"ibm-grid-col-sm-4-4 ibm-grid-col-md-8-6 ibm-grid-col-lg-16-8 ibm-duo-module-12a__content\">\\n          <h2 class=\"ibm-duo-module-12a__headline bx--type-semibold bx--type-productive-heading-04 ibm-mb-0 ibm-pb-0 ibm-textcolor-gray-90\">\\n            <span >  IBM Cloud free tier</span>\\n\\n      </h2>\\n    \\n          <div class=\"ibm-duo-module-12a__subhead ibm-textcolor-gray-90\">\\n                    <p>Capture the true value of cloud and AI for your business</p>\\n      \\n      </div>\\n    \\n      </div>\\n\\n  \\n    <div class=\"ibm-grid-col-sm-4-0 ibm-grid-col-md-8-2 ibm-grid-col-lg-16-4\"></div>\\n          <div class=\"ibm-grid-col-sm-4-4 ibm-grid-col-md-8-4 ibm-grid-col-lg-16-4 ibm-duo-module-12a__cta ani-reveal ani-fadeInUp\">\\n                  \\n\\n        \\n  \\n  \\n  \\n\\n\\n\\n\\n        \\n  <div class=\\'ibm-duo-button-item\\'>\\n    <a  target=\"_blank\" href=\"https://www.ibm.com/ph-en/cloud/free?lnk=hpv18nf\" class=\"ibm-btn-pri ibm-duo-btn-cta ibm-duo-u--link-icon\">\\n      Create your free account\\n      \\n    \\n        \\n\\n                      <svg focusable=\"false\" class=\"ibm-duo-u--link-icon--arrow-right\" preserveAspectRatio=\"xMidYMid meet\" xmlns=\"http://www.w3.org/2000/svg\" fill=\"currentColor\" aria-hidden=\"true\" aria-label=\"View this link\" width=\"20\" height=\"20\" viewBox=\"0 0 20 20\" slot=\"icon\"><path d=\"M11.8 2.8L10.8 3.8 16.2 9.3 1 9.3 1 10.7 16.2 10.7 10.8 16.2 11.8 17.2 19 10z\"></path></svg>\\n          \\n    \\n    </a>\\n  </div>\\n\\n              </div>\\n      </div>\\n\\n\\n              </section>\\n\\n              \\n\\n\\n\\n\\n\\n\\n  <section  role=\"article\" about=\"/ph-en/node/2725178\" id=\"2725178\" class=\"ibm-duo-band ibm-duo-module-2b ibm-duo-u--pt-4 ibm-duo-u--pb-4 ibm-background-white-core\" data-bg-lazy-load>\\n    <div class=\"ibm-grid-container ibm-duo-module-2b__container\">\\n\\n      <div class=\"ibm-grid-col-sm-4-4 ibm-grid-col-md-8-4 ibm-grid-col-lg-16-4\">\\n        \\n\\n  <div class=\"ibm-duo-heading__headline ibm-grid-col-sm-4-4 ibm-grid-col-md-8-6 ibm-grid-col-lg-16-8 ibm-grid-col-seamless ibm-mb-3 ani-reveal ani-fadeInUp\">\\n    <h2 class=\"bx--type-productive-heading-02 ibm-textcolor-gray-90 ibm-pb-0 ibm-mb-0\">\\n          <span > Explore popular and trending technologies</span>\\n\\n    </h2>\\n  </div>\\n\\n\\n      </div>\\n\\n      \\n                                          \\n        \\n        <div class=\"ibm-grid-col-sm-4-4 ibm-grid-col-md-8-8 ibm-grid-col-lg-16-12 ibm-grid-col-seamless\">\\n          <div class=\"ibm-duo-carousel ibm-duo-carousel__2b ani-reveal ani-fadeInUp\" data-widget=\"setsameheight\" data-always=\"true\" data-items=\".ibm-duo-card__heading\">\\n\\n                          <button type=\"button\" class=\"slick-arrow slick-prev\" data-ibm-cm-avoid=\"true\">\\n      <svg focusable=\"false\" preserveAspectRatio=\"xMidYMid meet\" xmlns=\"http://www.w3.org/2000/svg\" width=\"32\" height=\"32\" viewBox=\"0 0 32 32\" aria-hidden=\"true\" aria-label=\"Show previous content\"><path d=\"m10 16l10-10l1.4 1.4l-8.6 8.6l8.6 8.6l-1.4 1.4l-10-10z\" /></svg>\\n</button>\\n            \\n            \\n                          <div class=\"ibm-grid-col-sm-4-4 ibm-grid-col-md-8-4 ibm-duo-carousel__item ibm-duo-carousel-2b__item\">\\n                    \\n\\n\\n\\n\\n\\n<div class=\"ibm-card ibm-duo-card ibm-card--noborder ibm-mb-0\">\\n\\n  \\n      <div class=\"ibm-blocklink ibm-duo-card__link ibm-background-cool-gray-10\">\\n          <div class=\"ibm-card__content ibm-duo-card__content\">\\n      <div class=\"ibm-grid-container\">\\n        <div class=\"ibm-grid-col-sm-4-4 ibm-grid-col-md-8-7 ibm-grid-col-lg-16-14 ibm-pb-4\">\\n          \\n          \\n          \\n                      <div class=\"bx--type-body-long-02 ibm-textcolor-gray-70 ibm-mb-3 ibm-duo-card__desc\">\\n                          <p><strong>Tools for developers\\xa0</strong><br />\\n\\xa0</p>\\n\\n<ul><li><a href=\"https://developer.ibm.com/depmodels/cloud/?lnk=hpv18ct16\">Cloud</a></li>\\n\\t<li><a href=\"https://developer.ibm.com/technologies/artificial-intelligence?lnk=hpv18ct19\">Artificial intelligence</a></li>\\n\\t<li><a href=\"https://developer.ibm.com/?lnk=hpv18ct9\">IBM Developer</a></li>\\n\\t<li><a href=\"https://www.ibm.com/docs/en?lnk=hpv18ct14\">Documentation</a></li>\\n\\t<li><a data-entity-substitution=\"\" data-entity-type=\"\" data-entity-uuid=\"\" href=\"https://www.redbooks.ibm.com/?lnk=ushpv18ct10\">Redbooks</a></li>\\n\\t<li><a href=\"https://www.ibm.com/support/home/?lnk=hpv18ct11\">Support</a></li>\\n\\t<li><a href=\"https://www.ibm.com/training/?lnk=hpv18ct15\">Training and Skills</a></li>\\n</ul>\\n      \\n            </div>\\n                  </div>\\n      </div>\\n    </div>\\n\\n      \\n    </div>\\n  </div>\\n\\n\\n                </div>\\n                          <div class=\"ibm-grid-col-sm-4-4 ibm-grid-col-md-8-4 ibm-duo-carousel__item ibm-duo-carousel-2b__item\">\\n                    \\n\\n\\n\\n\\n\\n<div class=\"ibm-card ibm-duo-card ibm-card--noborder ibm-mb-0\">\\n\\n  \\n      <div class=\"ibm-blocklink ibm-duo-card__link ibm-background-cool-gray-10\">\\n          <div class=\"ibm-card__content ibm-duo-card__content\">\\n      <div class=\"ibm-grid-container\">\\n        <div class=\"ibm-grid-col-sm-4-4 ibm-grid-col-md-8-7 ibm-grid-col-lg-16-14 ibm-pb-4\">\\n          \\n          \\n          \\n                      <div class=\"bx--type-body-long-02 ibm-textcolor-gray-70 ibm-mb-3 ibm-duo-card__desc\">\\n                          <p>\\xa0<strong>Tools for business</strong><br />\\n\\xa0</p>\\n\\n<ul><li><a href=\"/cloud/hybrid?lnk=hpv18pt14\">Hybrid Cloud</a></li>\\n\\t<li><a href=\"/cloud/learn/public-cloud?lnk=hpv18ct1\">Public Cloud</a></li>\\n\\t<li><a href=\"/watson?lnk=ushpv18pt17\">IBM Watson</a></li>\\n\\t<li><a href=\"/garage?lnk=hpv18pt13\">IBM Garage</a></li>\\n\\t<li><a href=\"https://www.ibm.com/sg-en/storage?lnk=phhpv18pt4\">IBM Storage</a></li>\\n\\t<li><a href=\"https://www.ibm.com/thought-leadership/institute-business-value/?lnk=hpv18pt12\">Institute for Business Value</a></li>\\n\\t<li><a href=\"/analytics?lnk=hpv18pt1\">Data &amp;\\xa0analytics</a></li>\\n\\t<li><a href=\"/security?lnk=hpv18pt9\">Security</a></li>\\n\\t<li><a href=\"/financing?lnk=hpv18pt3\">Financing</a></li>\\n\\t<li><a href=\"https://www.ibm.com/quantum-computing?lnk=hpv18pt16\">Quantum computing</a></li>\\n</ul>\\n      \\n            </div>\\n                  </div>\\n      </div>\\n    </div>\\n\\n      \\n    </div>\\n  </div>\\n\\n\\n                </div>\\n                          <div class=\"ibm-grid-col-sm-4-4 ibm-grid-col-md-8-4 ibm-duo-carousel__item ibm-duo-carousel-2b__item\">\\n                    \\n\\n\\n\\n\\n\\n<div class=\"ibm-card ibm-duo-card ibm-card--noborder ibm-mb-0\">\\n\\n  \\n      <div class=\"ibm-blocklink ibm-duo-card__link ibm-background-cool-gray-10\">\\n          <div class=\"ibm-card__content ibm-duo-card__content\">\\n      <div class=\"ibm-grid-container\">\\n        <div class=\"ibm-grid-col-sm-4-4 ibm-grid-col-md-8-7 ibm-grid-col-lg-16-14 ibm-pb-4\">\\n          \\n          \\n          \\n                      <div class=\"bx--type-body-long-02 ibm-textcolor-gray-70 ibm-mb-3 ibm-duo-card__desc\">\\n                          <p><strong>\\xa0Trending in tech</strong><br />\\n\\xa0</p>\\n\\n<ul><li><a href=\"/cloud/hybrid?lnk=hpv18ct20\">Hybrid cloud</a></li>\\n\\t<li><a href=\"/cloud/learn/public-cloud?lnk=hpv18ct1\">Public cloud</a></li>\\n\\t<li><a href=\"/cloud/redhat?lnk=hpv18ct13\">Red Hat</a></li>\\n\\t<li><a href=\"/watson?lnk=hpv18ct3\">Artificial intelligence</a></li>\\n\\t<li><a href=\"https://www.ibm.com/quantum-computing?lnk=hpv18ct18\">Quantum computing</a></li>\\n\\t<li><a href=\"/cloud/learn/kubernetes?lnk=hpv18ct8\">Kubernetes</a></li>\\n\\t<li><a href=\"/products/spss-statistics?lnk=ushpv18ct7\">SPSS</a></li>\\n\\t<li><a href=\"/blockchain?lnk=hpv18ct1\">Blockchain</a></li>\\n\\t<li><a href=\"https://www.ibm.com/employment?lnk=hpv18ct2\">Careers</a></li>\\n</ul>\\n      \\n            </div>\\n                  </div>\\n      </div>\\n    </div>\\n\\n      \\n    </div>\\n  </div>\\n\\n\\n                </div>\\n                        <span class=\"ibm-duo-carousel__counter ibm-duo-carousel__counter--3 bx--type-body-long-01 ibm-mb-1 ibm-textcolor-gray-90\"></span>\\n\\n                          <button type=\"button\" class=\"slick-arrow slick-next\" data-ibm-cm-avoid=\"true\">\\n      <svg focusable=\"false\" preserveAspectRatio=\"xMidYMid meet\" xmlns=\"http://www.w3.org/2000/svg\" width=\"32\" height=\"32\" viewBox=\"0 0 32 32\" aria-hidden=\"true\" aria-label=\"Show next content\"><polygon points=\"22,16 12,26 10.6,24.6 19.2,16 10.6,7.4 12,6\"></polygon></svg>\\n</button>\\n                      </div>\\n        </div>\\n      \\n    </div>\\n  </section>\\n\\n              \\n\\n\\n\\n\\n\\n  <section  role=\"article\" about=\"/ph-en/node/2598824\" id=\"2598824\" class=\"ibm-duo-band ibm-duo-module-11a-double ibm-background-gray-100\" data-bg-lazy-load>\\n          <div class=\"ibm-grid-container\" data-widget=\"setsameheight\" data-always=\"true\" data-items=\".ibm-duo-module-11a-double__headline\">\\n                  <div class=\"ibm-grid-col-sm-4-4 ibm-grid-col-md-8-4 ibm-grid-col-lg-16-8 ibm-grid-col-seamless\">\\n                \\n\\n\\n\\n\\n<div class=\"ibm-duo-module-11a-double ibm-duo-module-11a-double__item ibm-background-gray-100\">\\n      <div class=\"ibm-duo-module-11a-double__bg ibm-duo-u--overlay ibm-duo-u--overlay--dark ani-reveal ani-fadeInUp\" style=\"background-image:url(\\'//1.cms.s81c.com/sites/default/files/2021-10-25/Lead%20space-makati2018-02-07dsc05973marianosayno-6pano2copy.jpg\\')\" role=\"img\" aria-label=\"BPI Modernise infrastructure, increase agility\"></div>\\n  \\n  <div class=\"ibm-grid-container ibm-duo-module-11a-double__content\">\\n    <div class=\"ibm-grid-col-sm-4-4 ibm-grid-col-md-8-8 ibm-grid-col-lg-16-10\">\\n              <div class=\"ibm-grid-col-sm-4-3 ibm-grid-col-md-8-6 ibm-grid-col-lg-16-16 ibm-grid-col-seamless\">\\n          <h2 class=\"bx--type-expressive-heading-05 ibm-type-light ibm-textcolor-gray-10 ibm-mb-3 ibm-pb-0 ibm-duo-module-11a-double__headline ani-reveal ani-fadeInUp\">\\n                <span > Modernise infrastructure, increase agility</span>\\n\\n          </h2>\\n        </div>\\n      \\n              <div class=\"ibm-grid-col-sm-4-3 ibm-grid-col-md-8-6 ibm-grid-col-lg-16-12 ibm-grid-col-seamless\">\\n          <div class=\"bx--type-body-long-02 ibm-textcolor-gray-30 ibm-mb-0 ibm-duo-module-11a-double__subhead ibm-pb-1 ani-reveal ani-fadeInUp\">\\n                        <p>Bank of the Philippine Islands partnered with IBM in its journey to a secure and scalable hybrid multicloud to accelerate its transformation into a digital bank of the future</p>\\n      \\n          </div>\\n        </div>\\n          </div>\\n  </div>\\n\\n      <div class=\"ibm-duo-module-11a-double__cta\">\\n      <div class=\"ibm-grid-container\">\\n        <div class=\"ibm-grid-col-sm-4-2 ibm-grid-col-md-8-4 ibm-grid-col-lg-16-8\"></div>\\n        <div class=\"ibm-grid-col-sm-4-2 ibm-grid-col-md-8-4 ibm-grid-col-lg-16-8 ibm-duo-module-11a-double__cta-wrapper\">\\n          \\n\\n        \\n  \\n  \\n  \\n\\n\\n\\n\\n  <a  target=\"_self\" href=\"https://www.ibm.com/case-studies/bpi-journey-to-cloud?lnk=hpv18cs1\" class=\"ibm-duo-cta ani-reveal ani-fadeInUp\">\\n    <p class=\\'ibm-type-e ibm-textcolor-white-core ibm-p ibm-mb-0\\'>See how BPI modernise the core IT infrastructure</p>\\n    <div class=\"ibm-duo-u--link-icon\">\\n      \\n    \\n        \\n\\n                      <svg focusable=\"false\" class=\"ibm-duo-u--link-icon--arrow-right\" preserveAspectRatio=\"xMidYMid meet\" xmlns=\"http://www.w3.org/2000/svg\" fill=\"currentColor\" aria-hidden=\"true\" aria-label=\"View this link\" width=\"20\" height=\"20\" viewBox=\"0 0 20 20\" slot=\"icon\"><path d=\"M11.8 2.8L10.8 3.8 16.2 9.3 1 9.3 1 10.7 16.2 10.7 10.8 16.2 11.8 17.2 19 10z\"></path></svg>\\n          \\n    \\n    </div>\\n  </a>\\n\\n\\n        </div>\\n      </div>\\n    </div>\\n  </div>\\n\\n\\n            </div>\\n                  <div class=\"ibm-grid-col-sm-4-4 ibm-grid-col-md-8-4 ibm-grid-col-lg-16-8 ibm-grid-col-seamless\">\\n                \\n\\n\\n\\n\\n<div class=\"ibm-duo-module-11a-double ibm-duo-module-11a-double__item ibm-background-gray-100\">\\n      <div class=\"ibm-duo-module-11a-double__bg ibm-duo-u--overlay ibm-duo-u--overlay--dark ani-reveal ani-fadeInUp\" style=\"background-image:url(\\'//1.cms.s81c.com/sites/default/files/2022-01-27/0d740b35-ad3a-4f0b-b915fab6ac2f49fb.jpg\\')\" role=\"img\" aria-label=\"\"></div>\\n  \\n  <div class=\"ibm-grid-container ibm-duo-module-11a-double__content\">\\n    <div class=\"ibm-grid-col-sm-4-4 ibm-grid-col-md-8-8 ibm-grid-col-lg-16-10\">\\n              <div class=\"ibm-grid-col-sm-4-3 ibm-grid-col-md-8-6 ibm-grid-col-lg-16-16 ibm-grid-col-seamless\">\\n          <h2 class=\"bx--type-expressive-heading-05 ibm-type-light ibm-textcolor-gray-10 ibm-mb-3 ibm-pb-0 ibm-duo-module-11a-double__headline ani-reveal ani-fadeInUp\">\\n                <span > Driving Digital Transformation in the Philippines</span>\\n\\n          </h2>\\n        </div>\\n      \\n              <div class=\"ibm-grid-col-sm-4-3 ibm-grid-col-md-8-6 ibm-grid-col-lg-16-12 ibm-grid-col-seamless\">\\n          <div class=\"bx--type-body-long-02 ibm-textcolor-gray-30 ibm-mb-0 ibm-duo-module-11a-double__subhead ibm-pb-1 ani-reveal ani-fadeInUp\">\\n                        <p>The managed service offering in partnership with IBM enabled eBiZolution to help a big financial institution and businesses in the Philippines in an evolving business landscape.</p>\\n      \\n          </div>\\n        </div>\\n          </div>\\n  </div>\\n\\n      <div class=\"ibm-duo-module-11a-double__cta\">\\n      <div class=\"ibm-grid-container\">\\n        <div class=\"ibm-grid-col-sm-4-2 ibm-grid-col-md-8-4 ibm-grid-col-lg-16-8\"></div>\\n        <div class=\"ibm-grid-col-sm-4-2 ibm-grid-col-md-8-4 ibm-grid-col-lg-16-8 ibm-duo-module-11a-double__cta-wrapper\">\\n          \\n\\n        \\n  \\n  \\n  \\n\\n\\n\\n\\n  <a  target=\"_blank\" href=\"https://mediacenter.ibm.com/media/t/1_8nybcbrt\" class=\"ibm-duo-cta ani-reveal ani-fadeInUp\">\\n    <p class=\\'ibm-type-e ibm-textcolor-white-core ibm-p ibm-mb-0\\'>Learn how IBM can help you in your digital transformation journey</p>\\n    <div class=\"ibm-duo-u--link-icon\">\\n      \\n    \\n        \\n\\n                      <svg focusable=\"false\" class=\"ibm-duo-u--link-icon--arrow-right\" preserveAspectRatio=\"xMidYMid meet\" xmlns=\"http://www.w3.org/2000/svg\" fill=\"currentColor\" aria-hidden=\"true\" aria-label=\"View this link\" width=\"20\" height=\"20\" viewBox=\"0 0 20 20\" slot=\"icon\"><path d=\"M11.8 2.8L10.8 3.8 16.2 9.3 1 9.3 1 10.7 16.2 10.7 10.8 16.2 11.8 17.2 19 10z\"></path></svg>\\n          \\n    \\n    </div>\\n  </a>\\n\\n\\n        </div>\\n      </div>\\n    </div>\\n  </div>\\n\\n\\n            </div>\\n              <div>\\n      </section>\\n\\n      \\n          </div>\\n\\n        </div>       </div>     </div>   </div> </main>\\n\\n  </div>\\n\\n  </div>\\n\\n  </div>\\n    <footer role=\"contentinfo\" aria-label=\"IBM\">\\n      <div class=\"region region-footer\">\\n    \\n\\n<div id=\"ibm-footer-module\">\\n    <section role=\"region\" aria-label=\"Resources\">\\n\\n            <div class=\"ibm-columns\">\\n              </div>\\n      \\n        \\n    </section>\\n\\n</div>\\n\\n\\n<div id=\"ibm-footer\">\\n\\n    <div class=\"ibm-columns\">\\n      <div class=\"ibm-col-1-1\">\\n                  <div class=\"ibm-footer-corporate-links\">\\n            <ul>\\n                            <li id=\"ibm-truste-cp\">\\n                <a href=\"#\" onclick=\"truste.eu.clickListener();return false;\">Cookie preferences</a>\\n              </li>\\n            </ul>\\n          </div>\\n        \\n                </div>\\n    </div>\\n\\n</div>\\n\\n  </div>\\n\\n  </footer>\\n  \\n</div>\\n\\n  </div>\\n\\n    \\n    <script type=\"application/json\" data-drupal-selector=\"drupal-settings-json\">{\"path\":{\"baseUrl\":\"\\\\/\",\"scriptPath\":null,\"pathPrefix\":\"ph-en\\\\/\",\"currentPath\":\"node\\\\/2598578\",\"currentPathIsAdmin\":false,\"isFront\":false,\"currentLanguage\":\"en-ph\"},\"pluralDelimiter\":\"\\\\u0003\",\"suppressDeprecationErrors\":true,\"ajaxPageState\":{\"libraries\":\"hc_fractal\\\\/01-1b,hc_fractal\\\\/02-2b,hc_fractal\\\\/02-2e,hc_fractal\\\\/11-11a-double,hc_fractal\\\\/12-12a,hc_fractal\\\\/animations,hc_fractal\\\\/card,hc_fractal\\\\/card-image,hc_fractal\\\\/full-width-double,hc_fractal\\\\/full-width-text,hc_fractal\\\\/heading,hc_fractal\\\\/image,hc_fractal\\\\/main_css,hc_fractal\\\\/main_js,hc_fractal\\\\/picturefill_background,hc_fractal\\\\/slick,ibm_ckeditor\\\\/ibm_ckeditor_table_style,ibm_duo\\\\/ibm_duo,ibm_tmgmt_concurrency\\\\/ibm_tmgmt_concurrency_messaging,ibm_tmgmt_concurrency\\\\/ibm_tmgmt_concurrency_publisher,ibm_tmgmt_concurrency\\\\/ibm_tmgmt_concurrency_publisher_finish,metadata\\\\/focus_area,northstar\\\\/font,northstar\\\\/grid-fluid,northstar\\\\/shame,northstar\\\\/stats,northstar\\\\/tables,system\\\\/base,tactic_codes\\\\/tactic_codes\",\"theme\":\"ibm_duo\",\"theme_token\":\"dZxRHXXZMbCx7oNbLJ-laq7aWLzYXsWDuATEgKLUurQ\"},\"ajaxTrustedUrl\":[],\"ibm_tmgmt_concurrency_publisher\":{\"nid\":\"2598578\",\"language\":\"en-ph\",\"submit_button\":\"#edit-submit\",\"form\":\"#content-moderation-entity-moderation-form\",\"route\":\"entity.node.canonical\"},\"user\":{\"uid\":0,\"permissionsHash\":\"38c521f2e73acba97a244c38ca669a8077be690dd45b09557a61cf00896ec935\"}}</script>\\n<script src=\"//1.cms.s81c.com/sites/default/files/js/js_P8-xl8MDsjn0l2X5M-qJaHxICcDZeZl2rLszwy-vd34.js\"></script>\\n<script src=\"//www.ibm.com/common/digitaladvisor/cm-app/latest/cm-app.min.js\" defer></script>\\n<script src=\"//1.www.s81c.com/common/v18/drupal/js/tables.js\" defer></script>\\n<script src=\"//1.cms.s81c.com/modules/contrib/hc_fractal/dist/js/interactions.js?v=1.1.11\" defer></script>\\n<script src=\"//1.cms.s81c.com/modules/contrib/hc_fractal/dist/js/background-image-lazy-load.js?v=1.1.11\" defer></script>\\n<script src=\"//1.cms.s81c.com/modules/contrib/hc_fractal/dist/js/v18-widgets.js?v=1.1.11\" defer></script>\\n<script src=\"//1.www.s81c.com/common/js/tactic.js\" defer></script>\\n<script src=\"//1.www.s81c.com/common/js/tacticbindlinks.js\" defer></script>\\n<script src=\"//1.cms.s81c.com/sites/default/files/js/js_W_bHvUagE3lFYZ970giSXaOtloIBMvGEE_Phl54d5lY.js\"></script>\\n<script src=\"//1.cms.s81c.com/modules/contrib/hc_fractal/dist/js/slick-sliders.js?v=1.1.18\" defer></script>\\n<script src=\"//1.cms.s81c.com/modules/contrib/hc_fractal/dist/js/plugins/picturefill-background.js?v=1.1.10\" defer></script>\\n\\n      <script type=\"text/javascript\"  src=\"/YmwsCtBYKk/Mg3z98BHFZ/9JiVzQzt3Oc1/YG9R/PCJF/ejd4Zw\"></script><link rel=\"stylesheet\" type=\"text/css\"  href=\"/_sec/cp_challenge/sec-3-6.css\">\\n            <script  src=\"/_sec/cp_challenge/sec-cpt-3-6.js\" async defer></script>\\n            <div id=\"sec-overlay\" style=\"display:none;\">\\n            <div id=\"sec-container\">\\n            </div>\\n          </div></body>\\n</html>\\n'"
      ]
     },
     "execution_count": 43,
     "metadata": {},
     "output_type": "execute_result"
    }
   ],
   "source": [
    "# user get() to download content of a webpage\n",
    "\n",
    "url = \"http://www.ibm.com\"\n",
    "data = requests.get(url).text\n",
    "data"
   ]
  },
  {
   "cell_type": "code",
   "execution_count": 55,
   "id": "ca7cda31",
   "metadata": {},
   "outputs": [],
   "source": [
    "# create soup object using variable 'data'\n",
    "\n",
    "soup = BeautifulSoup(data, \"html.parser\")"
   ]
  },
  {
   "cell_type": "code",
   "execution_count": 56,
   "id": "ab9bbb2e",
   "metadata": {},
   "outputs": [
    {
     "name": "stdout",
     "output_type": "stream",
     "text": [
      "https://www.ibm.com/ph/en\n",
      "https://www.ibm.com/sitemap/ph/en\n",
      "https://www.ibm.com/lets-create/new-creators/sg-en/?lnk=phhpv18l1\n",
      "https://www.ibm.com/it-infrastructure/us-en/resources/hybrid-multicloud-infrastructure-strategy/?lnk=hpv18f1\n",
      "https://www.ibm.com/sg-en/analytics/data-fabric/?lnk=phhpv18f2\n",
      "https://www.ibm.com/sg-en/it-infrastructure/power/os/ibm-i?lnk=phhpv18f3\n",
      "https://www.ibm.com/sg-en/cloud/aiops/?lnk=phhpv18f4\n",
      "https://www.ibm.com/consulting/sg-en/?lnk=phhpv18f5\n",
      "https://www.ibm.com/sg-en/cloud/campaign/cloud-simplicity?lnk=phhpv18f6\n",
      "/ph-en/products/offers-and-discounts?lnk=hpv18t5\n",
      "/ph-en/cloud/free?lnk=STW_MY_HP_T1_BLK&psrc=NONE&pexp=DEF&lnk2=trial_Cloud\n",
      "/ph-en/products/cloud-pak-for-data?lnk=STW_MY_HP_T2_BLK&psrc=NONE&pexp=DEF&lnk2=trial_CloudPakData\n",
      "/ph-en/cloud/watson-assistant?lnk=STW_MY_HP_T3_BLK&psrc=NONE&pexp=DEF&lnk2=trial_WatAssist\n",
      "/security/identity-access-management/cloud-identity?lnk=STW_MY_HP_T4_BLK&psrc=NONE&pexp=DEF&lnk2=trial_IdentAccMgmtSvc\n",
      "/products/digital-learning-subscription/pricing?lnk=STW_MY_HP_SWT5_BLK&psrc=NONE&pexp=DEF&lnk2=trial_DigLearning\n",
      "https://www.ibm.com/ph-en/cloud/free?lnk=hpv18nf\n",
      "https://developer.ibm.com/depmodels/cloud/?lnk=hpv18ct16\n",
      "https://developer.ibm.com/technologies/artificial-intelligence?lnk=hpv18ct19\n",
      "https://developer.ibm.com/?lnk=hpv18ct9\n",
      "https://www.ibm.com/docs/en?lnk=hpv18ct14\n",
      "https://www.redbooks.ibm.com/?lnk=ushpv18ct10\n",
      "https://www.ibm.com/support/home/?lnk=hpv18ct11\n",
      "https://www.ibm.com/training/?lnk=hpv18ct15\n",
      "/cloud/hybrid?lnk=hpv18pt14\n",
      "/cloud/learn/public-cloud?lnk=hpv18ct1\n",
      "/watson?lnk=ushpv18pt17\n",
      "/garage?lnk=hpv18pt13\n",
      "https://www.ibm.com/sg-en/storage?lnk=phhpv18pt4\n",
      "https://www.ibm.com/thought-leadership/institute-business-value/?lnk=hpv18pt12\n",
      "/analytics?lnk=hpv18pt1\n",
      "/security?lnk=hpv18pt9\n",
      "/financing?lnk=hpv18pt3\n",
      "https://www.ibm.com/quantum-computing?lnk=hpv18pt16\n",
      "/cloud/hybrid?lnk=hpv18ct20\n",
      "/cloud/learn/public-cloud?lnk=hpv18ct1\n",
      "/cloud/redhat?lnk=hpv18ct13\n",
      "/watson?lnk=hpv18ct3\n",
      "https://www.ibm.com/quantum-computing?lnk=hpv18ct18\n",
      "/cloud/learn/kubernetes?lnk=hpv18ct8\n",
      "/products/spss-statistics?lnk=ushpv18ct7\n",
      "/blockchain?lnk=hpv18ct1\n",
      "https://www.ibm.com/employment?lnk=hpv18ct2\n",
      "https://www.ibm.com/case-studies/bpi-journey-to-cloud?lnk=hpv18cs1\n",
      "https://mediacenter.ibm.com/media/t/1_8nybcbrt\n",
      "#\n"
     ]
    }
   ],
   "source": [
    "# scrape all links\n",
    "\n",
    "for link in soup.find_all('a', href = True):\n",
    "    print (link.get('href'))"
   ]
  },
  {
   "cell_type": "markdown",
   "id": "fc050cff",
   "metadata": {},
   "source": [
    "### <font color='green'> Scrape all images Tags </font>"
   ]
  },
  {
   "cell_type": "code",
   "execution_count": 59,
   "id": "8de48712",
   "metadata": {},
   "outputs": [
    {
     "name": "stdout",
     "output_type": "stream",
     "text": [
      "<img alt=\"2022 Forrester Consulting study\" class=\"\" loading=\"lazy\" src=\"//1.cms.s81c.com/sites/default/files/2022-04-04/Original-20220316-26479-Forrester-Modernize-444x320_3.jpg\"/>\n",
      "//1.cms.s81c.com/sites/default/files/2022-04-04/Original-20220316-26479-Forrester-Modernize-444x320_3.jpg\n",
      "<img alt=\"Let’s create security that protects your data anywhere\" class=\"\" loading=\"lazy\" src=\"//1.cms.s81c.com/sites/default/files/2022-04-26/2022031-ls-data-driven-mobile-720x360%20%283%29.png\"/>\n",
      "//1.cms.s81c.com/sites/default/files/2022-04-26/2022031-ls-data-driven-mobile-720x360%20%283%29.png\n",
      "<img alt=\"IBM i 7.5 for Power\" class=\"\" loading=\"lazy\" src=\"//1.cms.s81c.com/sites/default/files/2022-05-06/20220503-f-ibm-i-444x320-26606_2.jpg\"/>\n",
      "//1.cms.s81c.com/sites/default/files/2022-05-06/20220503-f-ibm-i-444x320-26606_2.jpg\n",
      "<img alt=\"automation and AIOPS with IBM\" class=\"\" loading=\"lazy\" src=\"//1.cms.s81c.com/sites/default/files/2022-02-16/automate-five-levers-444x254_4.jpg\"/>\n",
      "//1.cms.s81c.com/sites/default/files/2022-02-16/automate-five-levers-444x254_4.jpg\n",
      "<img alt=\"IBM Consulting\" class=\"\" loading=\"lazy\" src=\"//1.cms.s81c.com/sites/default/files/2022-04-26/consulting-five-levers-444x254.jpg\"/>\n",
      "//1.cms.s81c.com/sites/default/files/2022-04-26/consulting-five-levers-444x254.jpg\n",
      "<img alt=\"Simplify your cloud infrastructure\" class=\"\" loading=\"lazy\" src=\"//1.cms.s81c.com/sites/default/files/2022-02-16/cloud-five-levers-444x254_4.jpg\"/>\n",
      "//1.cms.s81c.com/sites/default/files/2022-02-16/cloud-five-levers-444x254_4.jpg\n",
      "<img alt=\"screenshot of the IBM Cloud dashboard\" class=\"\" loading=\"lazy\" src=\"//1.cms.s81c.com/sites/default/files/2021-04-07/ibm-cloud-trial.png\"/>\n",
      "//1.cms.s81c.com/sites/default/files/2021-04-07/ibm-cloud-trial.png\n",
      "<img alt=\"Cloud pak for data screenshot\" class=\"\" loading=\"lazy\" src=\"//1.cms.s81c.com/sites/default/files/2021-04-07/cloud-pak-for-data-trial.png\"/>\n",
      "//1.cms.s81c.com/sites/default/files/2021-04-07/cloud-pak-for-data-trial.png\n",
      "<img alt=\"Screenshot of Watson Assistant software\" class=\"\" loading=\"lazy\" src=\"//1.cms.s81c.com/sites/default/files/2021-04-07/watson-assistant-trial_0.png\"/>\n",
      "//1.cms.s81c.com/sites/default/files/2021-04-07/watson-assistant-trial_0.png\n",
      "<img alt=\"screenshot of security verify software\" class=\"\" loading=\"lazy\" src=\"//1.cms.s81c.com/sites/default/files/2021-05-27/security-verify-trial%283%29_0.png\"/>\n",
      "//1.cms.s81c.com/sites/default/files/2021-05-27/security-verify-trial%283%29_0.png\n",
      "<img alt=\"Screenshot of IBM Digital learning\" class=\"\" loading=\"lazy\" src=\"//1.cms.s81c.com/sites/default/files/2021-04-29/ibm-cloud-learning-444x254.png\"/>\n",
      "//1.cms.s81c.com/sites/default/files/2021-04-29/ibm-cloud-learning-444x254.png\n"
     ]
    }
   ],
   "source": [
    "for link in soup.find_all('img'): # in html image is represented by the tag <img>\n",
    "    print (link)\n",
    "    print(link.get('src'))"
   ]
  },
  {
   "cell_type": "markdown",
   "id": "1b07013e",
   "metadata": {},
   "source": [
    "### <font color='green'>Scrape data from HTML tables </font>"
   ]
  },
  {
   "cell_type": "code",
   "execution_count": 91,
   "id": "0b869791",
   "metadata": {},
   "outputs": [],
   "source": [
    "#The below url contains an html table with data about colors and color codes.\n",
    "url = \"https://cf-courses-data.s3.us.cloud-object-storage.appdomain.cloud/IBM-DA0321EN-SkillsNetwork/labs/datasets/HTMLColorCodes.html\""
   ]
  },
  {
   "cell_type": "markdown",
   "id": "24daa19e",
   "metadata": {},
   "source": [
    "Before proceeding to scrape a web site, you need to examine the contents, and the way data is organized on the website. Open the above url in your browser and check how many rows and columns are there in the color table."
   ]
  },
  {
   "cell_type": "code",
   "execution_count": 63,
   "id": "cdf78a92",
   "metadata": {},
   "outputs": [],
   "source": [
    "# get the contents of the webpage in text format and store in a variable called data\n",
    "\n",
    "data = requests.get(url).text"
   ]
  },
  {
   "cell_type": "code",
   "execution_count": 62,
   "id": "fa642928",
   "metadata": {},
   "outputs": [],
   "source": [
    "soup = BeautifulSoup (data, \"html.parser\")"
   ]
  },
  {
   "cell_type": "code",
   "execution_count": 64,
   "id": "6d4eed44",
   "metadata": {},
   "outputs": [],
   "source": [
    "#find html table in the web page\n",
    "\n",
    "table = soup.find('table') # in html, table is represented by the tag <table>"
   ]
  },
  {
   "cell_type": "code",
   "execution_count": 67,
   "id": "4a37caca",
   "metadata": {},
   "outputs": [
    {
     "name": "stdout",
     "output_type": "stream",
     "text": [
      "Color Name--->None\n",
      "lightsalmon--->#FFA07A\n",
      "salmon--->#FA8072\n",
      "darksalmon--->#E9967A\n",
      "lightcoral--->#F08080\n",
      "coral--->#FF7F50\n",
      "tomato--->#FF6347\n",
      "orangered--->#FF4500\n",
      "gold--->#FFD700\n",
      "orange--->#FFA500\n",
      "darkorange--->#FF8C00\n",
      "lightyellow--->#FFFFE0\n",
      "lemonchiffon--->#FFFACD\n",
      "papayawhip--->#FFEFD5\n",
      "moccasin--->#FFE4B5\n",
      "peachpuff--->#FFDAB9\n",
      "palegoldenrod--->#EEE8AA\n",
      "khaki--->#F0E68C\n",
      "darkkhaki--->#BDB76B\n",
      "yellow--->#FFFF00\n",
      "lawngreen--->#7CFC00\n",
      "chartreuse--->#7FFF00\n",
      "limegreen--->#32CD32\n",
      "lime--->#00FF00\n",
      "forestgreen--->#228B22\n",
      "green--->#008000\n",
      "powderblue--->#B0E0E6\n",
      "lightblue--->#ADD8E6\n",
      "lightskyblue--->#87CEFA\n",
      "skyblue--->#87CEEB\n",
      "deepskyblue--->#00BFFF\n",
      "lightsteelblue--->#B0C4DE\n",
      "dodgerblue--->#1E90FF\n"
     ]
    }
   ],
   "source": [
    "#Get all rows from the table\n",
    "for row in table.find_all('tr'): # in html table row is represented by the tag <tr>\n",
    "    # Get all columns in each row.\n",
    "    cols = row.find_all('td') # in html a column is represented by the tag <td>\n",
    "    color_name = cols[2].string # store the value in column 3 as color_name\n",
    "    color_code = cols[3].string # store the value in column 4 as color_code\n",
    "    print(\"{}--->{}\".format(color_name,color_code))"
   ]
  },
  {
   "cell_type": "markdown",
   "id": "382435fb",
   "metadata": {},
   "source": [
    "### <font color='green'>Scrape data from HTML tables into a DataFrame using BeautifulSoup and Pandas </font>"
   ]
  },
  {
   "cell_type": "code",
   "execution_count": 68,
   "id": "9ba5b24f",
   "metadata": {},
   "outputs": [],
   "source": [
    "import pandas as pd"
   ]
  },
  {
   "cell_type": "code",
   "execution_count": 95,
   "id": "0938aff7",
   "metadata": {},
   "outputs": [],
   "source": [
    "#The below url contains html tables with data about world population.\n",
    "url = \"https://en.wikipedia.org/wiki/World_population\""
   ]
  },
  {
   "cell_type": "markdown",
   "id": "7ed9f176",
   "metadata": {},
   "source": [
    "Before proceeding to scrape a web site, you need to examine the contents, and the way data is organized on the website. Open the above url in your browser and check the tables on the webpage."
   ]
  },
  {
   "cell_type": "code",
   "execution_count": 70,
   "id": "5c076233",
   "metadata": {},
   "outputs": [],
   "source": [
    "# get the contents of the webpage in text format and store in a variable called data\n",
    "data  = requests.get(url).text"
   ]
  },
  {
   "cell_type": "code",
   "execution_count": 71,
   "id": "adba4846",
   "metadata": {},
   "outputs": [],
   "source": [
    "soup = BeautifulSoup(data,\"html.parser\")"
   ]
  },
  {
   "cell_type": "code",
   "execution_count": 82,
   "id": "66bac241",
   "metadata": {},
   "outputs": [],
   "source": [
    "#find all html tables in the web page\n",
    "tables = soup.find_all('table') # in html table is represented by the tag <table>"
   ]
  },
  {
   "cell_type": "code",
   "execution_count": 73,
   "id": "d805c2a7",
   "metadata": {},
   "outputs": [
    {
     "data": {
      "text/plain": [
       "26"
      ]
     },
     "execution_count": 73,
     "metadata": {},
     "output_type": "execute_result"
    }
   ],
   "source": [
    "# we can see how many tables were found by checking the length of the tables list\n",
    "len(tables)"
   ]
  },
  {
   "cell_type": "markdown",
   "id": "03b0bc4b",
   "metadata": {},
   "source": [
    "Assume that we are looking for the 10 most densly populated countries table, we can look through the tables list and find the right one we are look for based on the data in each table or we can search for the table name if it is in the table but this option might not always work."
   ]
  },
  {
   "cell_type": "code",
   "execution_count": 74,
   "id": "5089a8b7",
   "metadata": {},
   "outputs": [
    {
     "name": "stdout",
     "output_type": "stream",
     "text": [
      "5\n"
     ]
    }
   ],
   "source": [
    "for index,table in enumerate(tables):\n",
    "    if (\"10 most densely populated countries\" in str(table)):\n",
    "        table_index = index\n",
    "print(table_index)"
   ]
  },
  {
   "cell_type": "markdown",
   "id": "471952fd",
   "metadata": {},
   "source": [
    "See if you can locate the table name of the table, 10 most densly populated countries, below."
   ]
  },
  {
   "cell_type": "code",
   "execution_count": 83,
   "id": "fb78d9ff",
   "metadata": {},
   "outputs": [
    {
     "name": "stdout",
     "output_type": "stream",
     "text": [
      "<table class=\"wikitable sortable\" style=\"text-align:right\">\n",
      " <caption>\n",
      "  10 most densely populated countries\n",
      "  <small>\n",
      "   (with population above 5 million)\n",
      "  </small>\n",
      " </caption>\n",
      " <tbody>\n",
      "  <tr>\n",
      "   <th>\n",
      "    Rank\n",
      "   </th>\n",
      "   <th>\n",
      "    Country\n",
      "   </th>\n",
      "   <th>\n",
      "    Population\n",
      "   </th>\n",
      "   <th>\n",
      "    Area\n",
      "    <br/>\n",
      "    <small>\n",
      "     (km\n",
      "     <sup>\n",
      "      2\n",
      "     </sup>\n",
      "     )\n",
      "    </small>\n",
      "   </th>\n",
      "   <th>\n",
      "    Density\n",
      "    <br/>\n",
      "    <small>\n",
      "     (pop/km\n",
      "     <sup>\n",
      "      2\n",
      "     </sup>\n",
      "     )\n",
      "    </small>\n",
      "   </th>\n",
      "  </tr>\n",
      "  <tr>\n",
      "   <td>\n",
      "    1\n",
      "   </td>\n",
      "   <td align=\"left\">\n",
      "    <span class=\"flagicon\">\n",
      "     <img alt=\"\" class=\"thumbborder\" data-file-height=\"600\" data-file-width=\"900\" decoding=\"async\" height=\"15\" src=\"//upload.wikimedia.org/wikipedia/commons/thumb/4/48/Flag_of_Singapore.svg/23px-Flag_of_Singapore.svg.png\" srcset=\"//upload.wikimedia.org/wikipedia/commons/thumb/4/48/Flag_of_Singapore.svg/35px-Flag_of_Singapore.svg.png 1.5x, //upload.wikimedia.org/wikipedia/commons/thumb/4/48/Flag_of_Singapore.svg/45px-Flag_of_Singapore.svg.png 2x\" width=\"23\"/>\n",
      "    </span>\n",
      "    <a href=\"/wiki/Singapore\" title=\"Singapore\">\n",
      "     Singapore\n",
      "    </a>\n",
      "   </td>\n",
      "   <td>\n",
      "    5,704,000\n",
      "   </td>\n",
      "   <td>\n",
      "    710\n",
      "   </td>\n",
      "   <td>\n",
      "    8,033\n",
      "   </td>\n",
      "  </tr>\n",
      "  <tr>\n",
      "   <td>\n",
      "    2\n",
      "   </td>\n",
      "   <td align=\"left\">\n",
      "    <span class=\"flagicon\">\n",
      "     <img alt=\"\" class=\"thumbborder\" data-file-height=\"600\" data-file-width=\"1000\" decoding=\"async\" height=\"14\" src=\"//upload.wikimedia.org/wikipedia/commons/thumb/f/f9/Flag_of_Bangladesh.svg/23px-Flag_of_Bangladesh.svg.png\" srcset=\"//upload.wikimedia.org/wikipedia/commons/thumb/f/f9/Flag_of_Bangladesh.svg/35px-Flag_of_Bangladesh.svg.png 1.5x, //upload.wikimedia.org/wikipedia/commons/thumb/f/f9/Flag_of_Bangladesh.svg/46px-Flag_of_Bangladesh.svg.png 2x\" width=\"23\"/>\n",
      "    </span>\n",
      "    <a href=\"/wiki/Bangladesh\" title=\"Bangladesh\">\n",
      "     Bangladesh\n",
      "    </a>\n",
      "   </td>\n",
      "   <td>\n",
      "    172,880,000\n",
      "   </td>\n",
      "   <td>\n",
      "    143,998\n",
      "   </td>\n",
      "   <td>\n",
      "    1,201\n",
      "   </td>\n",
      "  </tr>\n",
      "  <tr>\n",
      "   <td>\n",
      "    3\n",
      "   </td>\n",
      "   <td align=\"left\">\n",
      "    <p>\n",
      "     <span class=\"flagicon\">\n",
      "      <img alt=\"\" class=\"thumbborder\" data-file-height=\"216\" data-file-width=\"432\" decoding=\"async\" height=\"12\" src=\"//upload.wikimedia.org/wikipedia/commons/thumb/0/00/Flag_of_Palestine.svg/23px-Flag_of_Palestine.svg.png\" srcset=\"//upload.wikimedia.org/wikipedia/commons/thumb/0/00/Flag_of_Palestine.svg/35px-Flag_of_Palestine.svg.png 1.5x, //upload.wikimedia.org/wikipedia/commons/thumb/0/00/Flag_of_Palestine.svg/46px-Flag_of_Palestine.svg.png 2x\" width=\"23\"/>\n",
      "     </span>\n",
      "     <a href=\"/wiki/State_of_Palestine\" title=\"State of Palestine\">\n",
      "      Palestine\n",
      "     </a>\n",
      "    </p>\n",
      "   </td>\n",
      "   <td>\n",
      "    5,266,785\n",
      "   </td>\n",
      "   <td>\n",
      "    6,020\n",
      "   </td>\n",
      "   <td>\n",
      "    847\n",
      "   </td>\n",
      "  </tr>\n",
      "  <tr>\n",
      "   <td>\n",
      "    4\n",
      "   </td>\n",
      "   <td align=\"left\">\n",
      "    <span class=\"flagicon\">\n",
      "     <img alt=\"\" class=\"thumbborder\" data-file-height=\"600\" data-file-width=\"900\" decoding=\"async\" height=\"15\" src=\"//upload.wikimedia.org/wikipedia/commons/thumb/5/59/Flag_of_Lebanon.svg/23px-Flag_of_Lebanon.svg.png\" srcset=\"//upload.wikimedia.org/wikipedia/commons/thumb/5/59/Flag_of_Lebanon.svg/35px-Flag_of_Lebanon.svg.png 1.5x, //upload.wikimedia.org/wikipedia/commons/thumb/5/59/Flag_of_Lebanon.svg/45px-Flag_of_Lebanon.svg.png 2x\" width=\"23\"/>\n",
      "    </span>\n",
      "    <a href=\"/wiki/Lebanon\" title=\"Lebanon\">\n",
      "     Lebanon\n",
      "    </a>\n",
      "   </td>\n",
      "   <td>\n",
      "    6,856,000\n",
      "   </td>\n",
      "   <td>\n",
      "    10,452\n",
      "   </td>\n",
      "   <td>\n",
      "    656\n",
      "   </td>\n",
      "  </tr>\n",
      "  <tr>\n",
      "   <td>\n",
      "    5\n",
      "   </td>\n",
      "   <td align=\"left\">\n",
      "    <span class=\"flagicon\">\n",
      "     <img alt=\"\" class=\"thumbborder\" data-file-height=\"600\" data-file-width=\"900\" decoding=\"async\" height=\"15\" src=\"//upload.wikimedia.org/wikipedia/commons/thumb/7/72/Flag_of_the_Republic_of_China.svg/23px-Flag_of_the_Republic_of_China.svg.png\" srcset=\"//upload.wikimedia.org/wikipedia/commons/thumb/7/72/Flag_of_the_Republic_of_China.svg/35px-Flag_of_the_Republic_of_China.svg.png 1.5x, //upload.wikimedia.org/wikipedia/commons/thumb/7/72/Flag_of_the_Republic_of_China.svg/45px-Flag_of_the_Republic_of_China.svg.png 2x\" width=\"23\"/>\n",
      "    </span>\n",
      "    <a href=\"/wiki/Taiwan\" title=\"Taiwan\">\n",
      "     Taiwan\n",
      "    </a>\n",
      "   </td>\n",
      "   <td>\n",
      "    23,604,000\n",
      "   </td>\n",
      "   <td>\n",
      "    36,193\n",
      "   </td>\n",
      "   <td>\n",
      "    652\n",
      "   </td>\n",
      "  </tr>\n",
      "  <tr>\n",
      "   <td>\n",
      "    6\n",
      "   </td>\n",
      "   <td align=\"left\">\n",
      "    <span class=\"flagicon\">\n",
      "     <img alt=\"\" class=\"thumbborder\" data-file-height=\"600\" data-file-width=\"900\" decoding=\"async\" height=\"15\" src=\"//upload.wikimedia.org/wikipedia/commons/thumb/0/09/Flag_of_South_Korea.svg/23px-Flag_of_South_Korea.svg.png\" srcset=\"//upload.wikimedia.org/wikipedia/commons/thumb/0/09/Flag_of_South_Korea.svg/35px-Flag_of_South_Korea.svg.png 1.5x, //upload.wikimedia.org/wikipedia/commons/thumb/0/09/Flag_of_South_Korea.svg/45px-Flag_of_South_Korea.svg.png 2x\" width=\"23\"/>\n",
      "    </span>\n",
      "    <a href=\"/wiki/South_Korea\" title=\"South Korea\">\n",
      "     South Korea\n",
      "    </a>\n",
      "   </td>\n",
      "   <td>\n",
      "    51,781,000\n",
      "   </td>\n",
      "   <td>\n",
      "    99,538\n",
      "   </td>\n",
      "   <td>\n",
      "    520\n",
      "   </td>\n",
      "  </tr>\n",
      "  <tr>\n",
      "   <td>\n",
      "    7\n",
      "   </td>\n",
      "   <td align=\"left\">\n",
      "    <span class=\"flagicon\">\n",
      "     <img alt=\"\" class=\"thumbborder\" data-file-height=\"720\" data-file-width=\"1080\" decoding=\"async\" height=\"15\" src=\"//upload.wikimedia.org/wikipedia/commons/thumb/1/17/Flag_of_Rwanda.svg/23px-Flag_of_Rwanda.svg.png\" srcset=\"//upload.wikimedia.org/wikipedia/commons/thumb/1/17/Flag_of_Rwanda.svg/35px-Flag_of_Rwanda.svg.png 1.5x, //upload.wikimedia.org/wikipedia/commons/thumb/1/17/Flag_of_Rwanda.svg/45px-Flag_of_Rwanda.svg.png 2x\" width=\"23\"/>\n",
      "    </span>\n",
      "    <a href=\"/wiki/Rwanda\" title=\"Rwanda\">\n",
      "     Rwanda\n",
      "    </a>\n",
      "   </td>\n",
      "   <td>\n",
      "    12,374,000\n",
      "   </td>\n",
      "   <td>\n",
      "    26,338\n",
      "   </td>\n",
      "   <td>\n",
      "    470\n",
      "   </td>\n",
      "  </tr>\n",
      "  <tr>\n",
      "   <td>\n",
      "    8\n",
      "   </td>\n",
      "   <td align=\"left\">\n",
      "    <span class=\"flagicon\">\n",
      "     <img alt=\"\" class=\"thumbborder\" data-file-height=\"600\" data-file-width=\"1000\" decoding=\"async\" height=\"14\" src=\"//upload.wikimedia.org/wikipedia/commons/thumb/5/56/Flag_of_Haiti.svg/23px-Flag_of_Haiti.svg.png\" srcset=\"//upload.wikimedia.org/wikipedia/commons/thumb/5/56/Flag_of_Haiti.svg/35px-Flag_of_Haiti.svg.png 1.5x, //upload.wikimedia.org/wikipedia/commons/thumb/5/56/Flag_of_Haiti.svg/46px-Flag_of_Haiti.svg.png 2x\" width=\"23\"/>\n",
      "    </span>\n",
      "    <a href=\"/wiki/Haiti\" title=\"Haiti\">\n",
      "     Haiti\n",
      "    </a>\n",
      "   </td>\n",
      "   <td>\n",
      "    11,578,000\n",
      "   </td>\n",
      "   <td>\n",
      "    27,065\n",
      "   </td>\n",
      "   <td>\n",
      "    428\n",
      "   </td>\n",
      "  </tr>\n",
      "  <tr>\n",
      "   <td>\n",
      "    9\n",
      "   </td>\n",
      "   <td align=\"left\">\n",
      "    <span class=\"flagicon\">\n",
      "     <img alt=\"\" class=\"thumbborder\" data-file-height=\"600\" data-file-width=\"900\" decoding=\"async\" height=\"15\" src=\"//upload.wikimedia.org/wikipedia/commons/thumb/2/20/Flag_of_the_Netherlands.svg/23px-Flag_of_the_Netherlands.svg.png\" srcset=\"//upload.wikimedia.org/wikipedia/commons/thumb/2/20/Flag_of_the_Netherlands.svg/35px-Flag_of_the_Netherlands.svg.png 1.5x, //upload.wikimedia.org/wikipedia/commons/thumb/2/20/Flag_of_the_Netherlands.svg/45px-Flag_of_the_Netherlands.svg.png 2x\" width=\"23\"/>\n",
      "    </span>\n",
      "    <a href=\"/wiki/Netherlands\" title=\"Netherlands\">\n",
      "     Netherlands\n",
      "    </a>\n",
      "   </td>\n",
      "   <td>\n",
      "    17,730,000\n",
      "   </td>\n",
      "   <td>\n",
      "    41,526\n",
      "   </td>\n",
      "   <td>\n",
      "    427\n",
      "   </td>\n",
      "  </tr>\n",
      "  <tr>\n",
      "   <td>\n",
      "    10\n",
      "   </td>\n",
      "   <td align=\"left\">\n",
      "    <span class=\"flagicon\">\n",
      "     <img alt=\"\" class=\"thumbborder\" data-file-height=\"800\" data-file-width=\"1100\" decoding=\"async\" height=\"15\" src=\"//upload.wikimedia.org/wikipedia/commons/thumb/d/d4/Flag_of_Israel.svg/21px-Flag_of_Israel.svg.png\" srcset=\"//upload.wikimedia.org/wikipedia/commons/thumb/d/d4/Flag_of_Israel.svg/32px-Flag_of_Israel.svg.png 1.5x, //upload.wikimedia.org/wikipedia/commons/thumb/d/d4/Flag_of_Israel.svg/41px-Flag_of_Israel.svg.png 2x\" width=\"21\"/>\n",
      "    </span>\n",
      "    <a href=\"/wiki/Israel\" title=\"Israel\">\n",
      "     Israel\n",
      "    </a>\n",
      "   </td>\n",
      "   <td>\n",
      "    9,530,000\n",
      "   </td>\n",
      "   <td>\n",
      "    22,072\n",
      "   </td>\n",
      "   <td>\n",
      "    432\n",
      "   </td>\n",
      "  </tr>\n",
      " </tbody>\n",
      "</table>\n",
      "\n"
     ]
    }
   ],
   "source": [
    "print(tables[table_index].prettify())"
   ]
  },
  {
   "cell_type": "code",
   "execution_count": 86,
   "id": "6df21778",
   "metadata": {},
   "outputs": [
    {
     "name": "stderr",
     "output_type": "stream",
     "text": [
      "C:\\Users\\Admin\\AppData\\Local\\Temp\\ipykernel_12124\\394869253.py:11: FutureWarning: The frame.append method is deprecated and will be removed from pandas in a future version. Use pandas.concat instead.\n",
      "  population_data = population_data.append({\"Rank\":rank, \"Country\":country, \"Population\":population, \"Area\":area, \"Density\":density}, ignore_index=True)\n",
      "C:\\Users\\Admin\\AppData\\Local\\Temp\\ipykernel_12124\\394869253.py:11: FutureWarning: The frame.append method is deprecated and will be removed from pandas in a future version. Use pandas.concat instead.\n",
      "  population_data = population_data.append({\"Rank\":rank, \"Country\":country, \"Population\":population, \"Area\":area, \"Density\":density}, ignore_index=True)\n",
      "C:\\Users\\Admin\\AppData\\Local\\Temp\\ipykernel_12124\\394869253.py:11: FutureWarning: The frame.append method is deprecated and will be removed from pandas in a future version. Use pandas.concat instead.\n",
      "  population_data = population_data.append({\"Rank\":rank, \"Country\":country, \"Population\":population, \"Area\":area, \"Density\":density}, ignore_index=True)\n",
      "C:\\Users\\Admin\\AppData\\Local\\Temp\\ipykernel_12124\\394869253.py:11: FutureWarning: The frame.append method is deprecated and will be removed from pandas in a future version. Use pandas.concat instead.\n",
      "  population_data = population_data.append({\"Rank\":rank, \"Country\":country, \"Population\":population, \"Area\":area, \"Density\":density}, ignore_index=True)\n",
      "C:\\Users\\Admin\\AppData\\Local\\Temp\\ipykernel_12124\\394869253.py:11: FutureWarning: The frame.append method is deprecated and will be removed from pandas in a future version. Use pandas.concat instead.\n",
      "  population_data = population_data.append({\"Rank\":rank, \"Country\":country, \"Population\":population, \"Area\":area, \"Density\":density}, ignore_index=True)\n",
      "C:\\Users\\Admin\\AppData\\Local\\Temp\\ipykernel_12124\\394869253.py:11: FutureWarning: The frame.append method is deprecated and will be removed from pandas in a future version. Use pandas.concat instead.\n",
      "  population_data = population_data.append({\"Rank\":rank, \"Country\":country, \"Population\":population, \"Area\":area, \"Density\":density}, ignore_index=True)\n",
      "C:\\Users\\Admin\\AppData\\Local\\Temp\\ipykernel_12124\\394869253.py:11: FutureWarning: The frame.append method is deprecated and will be removed from pandas in a future version. Use pandas.concat instead.\n",
      "  population_data = population_data.append({\"Rank\":rank, \"Country\":country, \"Population\":population, \"Area\":area, \"Density\":density}, ignore_index=True)\n",
      "C:\\Users\\Admin\\AppData\\Local\\Temp\\ipykernel_12124\\394869253.py:11: FutureWarning: The frame.append method is deprecated and will be removed from pandas in a future version. Use pandas.concat instead.\n",
      "  population_data = population_data.append({\"Rank\":rank, \"Country\":country, \"Population\":population, \"Area\":area, \"Density\":density}, ignore_index=True)\n",
      "C:\\Users\\Admin\\AppData\\Local\\Temp\\ipykernel_12124\\394869253.py:11: FutureWarning: The frame.append method is deprecated and will be removed from pandas in a future version. Use pandas.concat instead.\n",
      "  population_data = population_data.append({\"Rank\":rank, \"Country\":country, \"Population\":population, \"Area\":area, \"Density\":density}, ignore_index=True)\n",
      "C:\\Users\\Admin\\AppData\\Local\\Temp\\ipykernel_12124\\394869253.py:11: FutureWarning: The frame.append method is deprecated and will be removed from pandas in a future version. Use pandas.concat instead.\n",
      "  population_data = population_data.append({\"Rank\":rank, \"Country\":country, \"Population\":population, \"Area\":area, \"Density\":density}, ignore_index=True)\n"
     ]
    },
    {
     "data": {
      "text/html": [
       "<div>\n",
       "<style scoped>\n",
       "    .dataframe tbody tr th:only-of-type {\n",
       "        vertical-align: middle;\n",
       "    }\n",
       "\n",
       "    .dataframe tbody tr th {\n",
       "        vertical-align: top;\n",
       "    }\n",
       "\n",
       "    .dataframe thead th {\n",
       "        text-align: right;\n",
       "    }\n",
       "</style>\n",
       "<table border=\"1\" class=\"dataframe\">\n",
       "  <thead>\n",
       "    <tr style=\"text-align: right;\">\n",
       "      <th></th>\n",
       "      <th>Rank</th>\n",
       "      <th>Country</th>\n",
       "      <th>Population</th>\n",
       "      <th>Area</th>\n",
       "      <th>Density</th>\n",
       "    </tr>\n",
       "  </thead>\n",
       "  <tbody>\n",
       "    <tr>\n",
       "      <th>0</th>\n",
       "      <td>1</td>\n",
       "      <td>Singapore</td>\n",
       "      <td>5,704,000</td>\n",
       "      <td>710</td>\n",
       "      <td>8,033</td>\n",
       "    </tr>\n",
       "    <tr>\n",
       "      <th>1</th>\n",
       "      <td>2</td>\n",
       "      <td>Bangladesh</td>\n",
       "      <td>172,880,000</td>\n",
       "      <td>143,998</td>\n",
       "      <td>1,201</td>\n",
       "    </tr>\n",
       "    <tr>\n",
       "      <th>2</th>\n",
       "      <td>3</td>\n",
       "      <td>\\n Palestine\\n\\n</td>\n",
       "      <td>5,266,785</td>\n",
       "      <td>6,020</td>\n",
       "      <td>847</td>\n",
       "    </tr>\n",
       "    <tr>\n",
       "      <th>3</th>\n",
       "      <td>4</td>\n",
       "      <td>Lebanon</td>\n",
       "      <td>6,856,000</td>\n",
       "      <td>10,452</td>\n",
       "      <td>656</td>\n",
       "    </tr>\n",
       "    <tr>\n",
       "      <th>4</th>\n",
       "      <td>5</td>\n",
       "      <td>Taiwan</td>\n",
       "      <td>23,604,000</td>\n",
       "      <td>36,193</td>\n",
       "      <td>652</td>\n",
       "    </tr>\n",
       "    <tr>\n",
       "      <th>5</th>\n",
       "      <td>6</td>\n",
       "      <td>South Korea</td>\n",
       "      <td>51,781,000</td>\n",
       "      <td>99,538</td>\n",
       "      <td>520</td>\n",
       "    </tr>\n",
       "    <tr>\n",
       "      <th>6</th>\n",
       "      <td>7</td>\n",
       "      <td>Rwanda</td>\n",
       "      <td>12,374,000</td>\n",
       "      <td>26,338</td>\n",
       "      <td>470</td>\n",
       "    </tr>\n",
       "    <tr>\n",
       "      <th>7</th>\n",
       "      <td>8</td>\n",
       "      <td>Haiti</td>\n",
       "      <td>11,578,000</td>\n",
       "      <td>27,065</td>\n",
       "      <td>428</td>\n",
       "    </tr>\n",
       "    <tr>\n",
       "      <th>8</th>\n",
       "      <td>9</td>\n",
       "      <td>Netherlands</td>\n",
       "      <td>17,730,000</td>\n",
       "      <td>41,526</td>\n",
       "      <td>427</td>\n",
       "    </tr>\n",
       "    <tr>\n",
       "      <th>9</th>\n",
       "      <td>10</td>\n",
       "      <td>Israel</td>\n",
       "      <td>9,530,000</td>\n",
       "      <td>22,072</td>\n",
       "      <td>432</td>\n",
       "    </tr>\n",
       "  </tbody>\n",
       "</table>\n",
       "</div>"
      ],
      "text/plain": [
       "  Rank           Country   Population     Area Density\n",
       "0    1         Singapore    5,704,000      710   8,033\n",
       "1    2        Bangladesh  172,880,000  143,998   1,201\n",
       "2    3  \\n Palestine\\n\\n    5,266,785    6,020     847\n",
       "3    4           Lebanon    6,856,000   10,452     656\n",
       "4    5            Taiwan   23,604,000   36,193     652\n",
       "5    6       South Korea   51,781,000   99,538     520\n",
       "6    7            Rwanda   12,374,000   26,338     470\n",
       "7    8             Haiti   11,578,000   27,065     428\n",
       "8    9       Netherlands   17,730,000   41,526     427\n",
       "9   10            Israel    9,530,000   22,072     432"
      ]
     },
     "execution_count": 86,
     "metadata": {},
     "output_type": "execute_result"
    }
   ],
   "source": [
    "population_data = pd.DataFrame(columns=[\"Rank\", \"Country\", \"Population\", \"Area\", \"Density\"])\n",
    "\n",
    "for row in tables[table_index].tbody.find_all(\"tr\"):\n",
    "    col = row.find_all(\"td\")\n",
    "    if (col != []):\n",
    "        rank = col[0].text\n",
    "        country = col[1].text\n",
    "        population = col[2].text.strip()\n",
    "        area = col[3].text.strip()\n",
    "        density = col[4].text.strip()\n",
    "        population_data = population_data.append({\"Rank\":rank, \"Country\":country, \"Population\":population, \"Area\":area, \"Density\":density}, ignore_index=True)\n",
    "\n",
    "population_data"
   ]
  },
  {
   "cell_type": "markdown",
   "id": "ccf0d613",
   "metadata": {},
   "source": [
    "### <font color='green'>Scrape data from HTML tables into a DataFrame using BeautifulSoup and read_html </font>\n",
    "\n",
    "Using the same url, data, soup, and tables object as in the last section we can use the read_html function to create a DataFrame.\n",
    "\n",
    "Remember the table we need is located in tables[table_index]\n",
    "\n",
    "We can now use the pandas function read_html and give it the string version of the table as well as the flavor which is the parsing engine bs4"
   ]
  },
  {
   "cell_type": "code",
   "execution_count": 87,
   "id": "c776ee20",
   "metadata": {},
   "outputs": [
    {
     "data": {
      "text/plain": [
       "[   Rank      Country  Population  Area(km2)  Density(pop/km2)\n",
       " 0     1    Singapore     5704000        710              8033\n",
       " 1     2   Bangladesh   172880000     143998              1201\n",
       " 2     3    Palestine     5266785       6020               847\n",
       " 3     4      Lebanon     6856000      10452               656\n",
       " 4     5       Taiwan    23604000      36193               652\n",
       " 5     6  South Korea    51781000      99538               520\n",
       " 6     7       Rwanda    12374000      26338               470\n",
       " 7     8        Haiti    11578000      27065               428\n",
       " 8     9  Netherlands    17730000      41526               427\n",
       " 9    10       Israel     9530000      22072               432]"
      ]
     },
     "execution_count": 87,
     "metadata": {},
     "output_type": "execute_result"
    }
   ],
   "source": [
    "pd.read_html(str(tables[5]), flavor='bs4')"
   ]
  },
  {
   "cell_type": "markdown",
   "id": "29236438",
   "metadata": {},
   "source": [
    "The function read_html always returns a list of DataFrames so we must pick the one we want out of the list."
   ]
  },
  {
   "cell_type": "code",
   "execution_count": 90,
   "id": "67b902ef",
   "metadata": {},
   "outputs": [
    {
     "data": {
      "text/html": [
       "<div>\n",
       "<style scoped>\n",
       "    .dataframe tbody tr th:only-of-type {\n",
       "        vertical-align: middle;\n",
       "    }\n",
       "\n",
       "    .dataframe tbody tr th {\n",
       "        vertical-align: top;\n",
       "    }\n",
       "\n",
       "    .dataframe thead th {\n",
       "        text-align: right;\n",
       "    }\n",
       "</style>\n",
       "<table border=\"1\" class=\"dataframe\">\n",
       "  <thead>\n",
       "    <tr style=\"text-align: right;\">\n",
       "      <th></th>\n",
       "      <th>Rank</th>\n",
       "      <th>Country</th>\n",
       "      <th>Population</th>\n",
       "      <th>Area(km2)</th>\n",
       "      <th>Density(pop/km2)</th>\n",
       "    </tr>\n",
       "  </thead>\n",
       "  <tbody>\n",
       "    <tr>\n",
       "      <th>0</th>\n",
       "      <td>1</td>\n",
       "      <td>Singapore</td>\n",
       "      <td>5704000</td>\n",
       "      <td>710</td>\n",
       "      <td>8033</td>\n",
       "    </tr>\n",
       "    <tr>\n",
       "      <th>1</th>\n",
       "      <td>2</td>\n",
       "      <td>Bangladesh</td>\n",
       "      <td>172880000</td>\n",
       "      <td>143998</td>\n",
       "      <td>1201</td>\n",
       "    </tr>\n",
       "    <tr>\n",
       "      <th>2</th>\n",
       "      <td>3</td>\n",
       "      <td>Palestine</td>\n",
       "      <td>5266785</td>\n",
       "      <td>6020</td>\n",
       "      <td>847</td>\n",
       "    </tr>\n",
       "    <tr>\n",
       "      <th>3</th>\n",
       "      <td>4</td>\n",
       "      <td>Lebanon</td>\n",
       "      <td>6856000</td>\n",
       "      <td>10452</td>\n",
       "      <td>656</td>\n",
       "    </tr>\n",
       "    <tr>\n",
       "      <th>4</th>\n",
       "      <td>5</td>\n",
       "      <td>Taiwan</td>\n",
       "      <td>23604000</td>\n",
       "      <td>36193</td>\n",
       "      <td>652</td>\n",
       "    </tr>\n",
       "    <tr>\n",
       "      <th>5</th>\n",
       "      <td>6</td>\n",
       "      <td>South Korea</td>\n",
       "      <td>51781000</td>\n",
       "      <td>99538</td>\n",
       "      <td>520</td>\n",
       "    </tr>\n",
       "    <tr>\n",
       "      <th>6</th>\n",
       "      <td>7</td>\n",
       "      <td>Rwanda</td>\n",
       "      <td>12374000</td>\n",
       "      <td>26338</td>\n",
       "      <td>470</td>\n",
       "    </tr>\n",
       "    <tr>\n",
       "      <th>7</th>\n",
       "      <td>8</td>\n",
       "      <td>Haiti</td>\n",
       "      <td>11578000</td>\n",
       "      <td>27065</td>\n",
       "      <td>428</td>\n",
       "    </tr>\n",
       "    <tr>\n",
       "      <th>8</th>\n",
       "      <td>9</td>\n",
       "      <td>Netherlands</td>\n",
       "      <td>17730000</td>\n",
       "      <td>41526</td>\n",
       "      <td>427</td>\n",
       "    </tr>\n",
       "    <tr>\n",
       "      <th>9</th>\n",
       "      <td>10</td>\n",
       "      <td>Israel</td>\n",
       "      <td>9530000</td>\n",
       "      <td>22072</td>\n",
       "      <td>432</td>\n",
       "    </tr>\n",
       "  </tbody>\n",
       "</table>\n",
       "</div>"
      ],
      "text/plain": [
       "   Rank      Country  Population  Area(km2)  Density(pop/km2)\n",
       "0     1    Singapore     5704000        710              8033\n",
       "1     2   Bangladesh   172880000     143998              1201\n",
       "2     3    Palestine     5266785       6020               847\n",
       "3     4      Lebanon     6856000      10452               656\n",
       "4     5       Taiwan    23604000      36193               652\n",
       "5     6  South Korea    51781000      99538               520\n",
       "6     7       Rwanda    12374000      26338               470\n",
       "7     8        Haiti    11578000      27065               428\n",
       "8     9  Netherlands    17730000      41526               427\n",
       "9    10       Israel     9530000      22072               432"
      ]
     },
     "execution_count": 90,
     "metadata": {},
     "output_type": "execute_result"
    }
   ],
   "source": [
    "population_data_read_html = pd.read_html(str(tables[5]), flavor='bs4')[0]\n",
    "\n",
    "population_data_read_html"
   ]
  },
  {
   "cell_type": "markdown",
   "id": "67b28eda",
   "metadata": {},
   "source": [
    "### <font color='green'>Scrape data from HTML tables into a DataFrame using read_html </font>\n",
    "\n",
    "We can also use the read_html function to directly get DataFrames from a url."
   ]
  },
  {
   "cell_type": "code",
   "execution_count": 96,
   "id": "abcf1860",
   "metadata": {},
   "outputs": [],
   "source": [
    "dataframe_list = pd.read_html(url, flavor='bs4')"
   ]
  },
  {
   "cell_type": "markdown",
   "id": "f924f1fa",
   "metadata": {},
   "source": [
    "We can see there are 26 DataFrames just like when we used find_all on the soup object."
   ]
  },
  {
   "cell_type": "code",
   "execution_count": 97,
   "id": "a6b68d4b",
   "metadata": {},
   "outputs": [
    {
     "data": {
      "text/plain": [
       "26"
      ]
     },
     "execution_count": 97,
     "metadata": {},
     "output_type": "execute_result"
    }
   ],
   "source": [
    "len(dataframe_list)"
   ]
  },
  {
   "cell_type": "markdown",
   "id": "363d748b",
   "metadata": {},
   "source": [
    "Finally we can pick the DataFrame we need out of the list."
   ]
  },
  {
   "cell_type": "code",
   "execution_count": 98,
   "id": "5c7e2e9e",
   "metadata": {},
   "outputs": [
    {
     "data": {
      "text/html": [
       "<div>\n",
       "<style scoped>\n",
       "    .dataframe tbody tr th:only-of-type {\n",
       "        vertical-align: middle;\n",
       "    }\n",
       "\n",
       "    .dataframe tbody tr th {\n",
       "        vertical-align: top;\n",
       "    }\n",
       "\n",
       "    .dataframe thead th {\n",
       "        text-align: right;\n",
       "    }\n",
       "</style>\n",
       "<table border=\"1\" class=\"dataframe\">\n",
       "  <thead>\n",
       "    <tr style=\"text-align: right;\">\n",
       "      <th></th>\n",
       "      <th>Rank</th>\n",
       "      <th>Country</th>\n",
       "      <th>Population</th>\n",
       "      <th>Area(km2)</th>\n",
       "      <th>Density(pop/km2)</th>\n",
       "    </tr>\n",
       "  </thead>\n",
       "  <tbody>\n",
       "    <tr>\n",
       "      <th>0</th>\n",
       "      <td>1</td>\n",
       "      <td>Singapore</td>\n",
       "      <td>5704000</td>\n",
       "      <td>710</td>\n",
       "      <td>8033</td>\n",
       "    </tr>\n",
       "    <tr>\n",
       "      <th>1</th>\n",
       "      <td>2</td>\n",
       "      <td>Bangladesh</td>\n",
       "      <td>172880000</td>\n",
       "      <td>143998</td>\n",
       "      <td>1201</td>\n",
       "    </tr>\n",
       "    <tr>\n",
       "      <th>2</th>\n",
       "      <td>3</td>\n",
       "      <td>Palestine</td>\n",
       "      <td>5266785</td>\n",
       "      <td>6020</td>\n",
       "      <td>847</td>\n",
       "    </tr>\n",
       "    <tr>\n",
       "      <th>3</th>\n",
       "      <td>4</td>\n",
       "      <td>Lebanon</td>\n",
       "      <td>6856000</td>\n",
       "      <td>10452</td>\n",
       "      <td>656</td>\n",
       "    </tr>\n",
       "    <tr>\n",
       "      <th>4</th>\n",
       "      <td>5</td>\n",
       "      <td>Taiwan</td>\n",
       "      <td>23604000</td>\n",
       "      <td>36193</td>\n",
       "      <td>652</td>\n",
       "    </tr>\n",
       "    <tr>\n",
       "      <th>5</th>\n",
       "      <td>6</td>\n",
       "      <td>South Korea</td>\n",
       "      <td>51781000</td>\n",
       "      <td>99538</td>\n",
       "      <td>520</td>\n",
       "    </tr>\n",
       "    <tr>\n",
       "      <th>6</th>\n",
       "      <td>7</td>\n",
       "      <td>Rwanda</td>\n",
       "      <td>12374000</td>\n",
       "      <td>26338</td>\n",
       "      <td>470</td>\n",
       "    </tr>\n",
       "    <tr>\n",
       "      <th>7</th>\n",
       "      <td>8</td>\n",
       "      <td>Haiti</td>\n",
       "      <td>11578000</td>\n",
       "      <td>27065</td>\n",
       "      <td>428</td>\n",
       "    </tr>\n",
       "    <tr>\n",
       "      <th>8</th>\n",
       "      <td>9</td>\n",
       "      <td>Netherlands</td>\n",
       "      <td>17730000</td>\n",
       "      <td>41526</td>\n",
       "      <td>427</td>\n",
       "    </tr>\n",
       "    <tr>\n",
       "      <th>9</th>\n",
       "      <td>10</td>\n",
       "      <td>Israel</td>\n",
       "      <td>9530000</td>\n",
       "      <td>22072</td>\n",
       "      <td>432</td>\n",
       "    </tr>\n",
       "  </tbody>\n",
       "</table>\n",
       "</div>"
      ],
      "text/plain": [
       "   Rank      Country  Population  Area(km2)  Density(pop/km2)\n",
       "0     1    Singapore     5704000        710              8033\n",
       "1     2   Bangladesh   172880000     143998              1201\n",
       "2     3    Palestine     5266785       6020               847\n",
       "3     4      Lebanon     6856000      10452               656\n",
       "4     5       Taiwan    23604000      36193               652\n",
       "5     6  South Korea    51781000      99538               520\n",
       "6     7       Rwanda    12374000      26338               470\n",
       "7     8        Haiti    11578000      27065               428\n",
       "8     9  Netherlands    17730000      41526               427\n",
       "9    10       Israel     9530000      22072               432"
      ]
     },
     "execution_count": 98,
     "metadata": {},
     "output_type": "execute_result"
    }
   ],
   "source": [
    "dataframe_list[5]"
   ]
  },
  {
   "cell_type": "markdown",
   "id": "e6746d6e",
   "metadata": {},
   "source": [
    "We can also use the match parameter to select the specific table we want. If the table contains a string matching the text it will be read."
   ]
  },
  {
   "cell_type": "code",
   "execution_count": 100,
   "id": "70800aa3",
   "metadata": {},
   "outputs": [
    {
     "data": {
      "text/html": [
       "<div>\n",
       "<style scoped>\n",
       "    .dataframe tbody tr th:only-of-type {\n",
       "        vertical-align: middle;\n",
       "    }\n",
       "\n",
       "    .dataframe tbody tr th {\n",
       "        vertical-align: top;\n",
       "    }\n",
       "\n",
       "    .dataframe thead th {\n",
       "        text-align: right;\n",
       "    }\n",
       "</style>\n",
       "<table border=\"1\" class=\"dataframe\">\n",
       "  <thead>\n",
       "    <tr style=\"text-align: right;\">\n",
       "      <th></th>\n",
       "      <th>Rank</th>\n",
       "      <th>Country</th>\n",
       "      <th>Population</th>\n",
       "      <th>Area(km2)</th>\n",
       "      <th>Density(pop/km2)</th>\n",
       "    </tr>\n",
       "  </thead>\n",
       "  <tbody>\n",
       "    <tr>\n",
       "      <th>0</th>\n",
       "      <td>1</td>\n",
       "      <td>Singapore</td>\n",
       "      <td>5704000</td>\n",
       "      <td>710</td>\n",
       "      <td>8033</td>\n",
       "    </tr>\n",
       "    <tr>\n",
       "      <th>1</th>\n",
       "      <td>2</td>\n",
       "      <td>Bangladesh</td>\n",
       "      <td>172880000</td>\n",
       "      <td>143998</td>\n",
       "      <td>1201</td>\n",
       "    </tr>\n",
       "    <tr>\n",
       "      <th>2</th>\n",
       "      <td>3</td>\n",
       "      <td>Palestine</td>\n",
       "      <td>5266785</td>\n",
       "      <td>6020</td>\n",
       "      <td>847</td>\n",
       "    </tr>\n",
       "    <tr>\n",
       "      <th>3</th>\n",
       "      <td>4</td>\n",
       "      <td>Lebanon</td>\n",
       "      <td>6856000</td>\n",
       "      <td>10452</td>\n",
       "      <td>656</td>\n",
       "    </tr>\n",
       "    <tr>\n",
       "      <th>4</th>\n",
       "      <td>5</td>\n",
       "      <td>Taiwan</td>\n",
       "      <td>23604000</td>\n",
       "      <td>36193</td>\n",
       "      <td>652</td>\n",
       "    </tr>\n",
       "    <tr>\n",
       "      <th>5</th>\n",
       "      <td>6</td>\n",
       "      <td>South Korea</td>\n",
       "      <td>51781000</td>\n",
       "      <td>99538</td>\n",
       "      <td>520</td>\n",
       "    </tr>\n",
       "    <tr>\n",
       "      <th>6</th>\n",
       "      <td>7</td>\n",
       "      <td>Rwanda</td>\n",
       "      <td>12374000</td>\n",
       "      <td>26338</td>\n",
       "      <td>470</td>\n",
       "    </tr>\n",
       "    <tr>\n",
       "      <th>7</th>\n",
       "      <td>8</td>\n",
       "      <td>Haiti</td>\n",
       "      <td>11578000</td>\n",
       "      <td>27065</td>\n",
       "      <td>428</td>\n",
       "    </tr>\n",
       "    <tr>\n",
       "      <th>8</th>\n",
       "      <td>9</td>\n",
       "      <td>Netherlands</td>\n",
       "      <td>17730000</td>\n",
       "      <td>41526</td>\n",
       "      <td>427</td>\n",
       "    </tr>\n",
       "    <tr>\n",
       "      <th>9</th>\n",
       "      <td>10</td>\n",
       "      <td>Israel</td>\n",
       "      <td>9530000</td>\n",
       "      <td>22072</td>\n",
       "      <td>432</td>\n",
       "    </tr>\n",
       "  </tbody>\n",
       "</table>\n",
       "</div>"
      ],
      "text/plain": [
       "   Rank      Country  Population  Area(km2)  Density(pop/km2)\n",
       "0     1    Singapore     5704000        710              8033\n",
       "1     2   Bangladesh   172880000     143998              1201\n",
       "2     3    Palestine     5266785       6020               847\n",
       "3     4      Lebanon     6856000      10452               656\n",
       "4     5       Taiwan    23604000      36193               652\n",
       "5     6  South Korea    51781000      99538               520\n",
       "6     7       Rwanda    12374000      26338               470\n",
       "7     8        Haiti    11578000      27065               428\n",
       "8     9  Netherlands    17730000      41526               427\n",
       "9    10       Israel     9530000      22072               432"
      ]
     },
     "execution_count": 100,
     "metadata": {},
     "output_type": "execute_result"
    }
   ],
   "source": [
    "pd.read_html(url, match=\"10 most densely populated countries\", flavor='bs4')[0]"
   ]
  },
  {
   "cell_type": "code",
   "execution_count": null,
   "id": "1b564aa3",
   "metadata": {},
   "outputs": [],
   "source": []
  }
 ],
 "metadata": {
  "kernelspec": {
   "display_name": "Python 3 (ipykernel)",
   "language": "python",
   "name": "python3"
  },
  "language_info": {
   "codemirror_mode": {
    "name": "ipython",
    "version": 3
   },
   "file_extension": ".py",
   "mimetype": "text/x-python",
   "name": "python",
   "nbconvert_exporter": "python",
   "pygments_lexer": "ipython3",
   "version": "3.9.12"
  }
 },
 "nbformat": 4,
 "nbformat_minor": 5
}
